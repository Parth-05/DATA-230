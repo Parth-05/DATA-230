{
 "cells": [
  {
   "cell_type": "code",
   "execution_count": 1,
   "id": "5b8580a0",
   "metadata": {},
   "outputs": [],
   "source": [
    "import pandas as pd\n",
    "import numpy as np\n",
    "\n",
    "import matplotlib.pyplot as plt\n",
    "import seaborn as sns"
   ]
  },
  {
   "cell_type": "code",
   "execution_count": 2,
   "id": "409776bc",
   "metadata": {},
   "outputs": [
    {
     "name": "stderr",
     "output_type": "stream",
     "text": [
      "C:\\Users\\Parth\\AppData\\Local\\Temp\\ipykernel_7004\\776376142.py:1: DtypeWarning: Columns (3,42,43,46,47) have mixed types. Specify dtype option on import or set low_memory=False.\n",
      "  data = pd.read_csv('Accidents_Data.csv')\n"
     ]
    }
   ],
   "source": [
    "data = pd.read_csv('Accidents_Data.csv')"
   ]
  },
  {
   "cell_type": "code",
   "execution_count": 3,
   "id": "b882dd80",
   "metadata": {},
   "outputs": [
    {
     "data": {
      "text/plain": [
       "(5127055, 50)"
      ]
     },
     "execution_count": 3,
     "metadata": {},
     "output_type": "execute_result"
    }
   ],
   "source": [
    "data.shape"
   ]
  },
  {
   "cell_type": "code",
   "execution_count": 4,
   "id": "3be5a2d8",
   "metadata": {},
   "outputs": [
    {
     "data": {
      "text/plain": [
       "Index(['CRASH DATE', 'CRASH TIME', 'BOROUGH', 'ZIP CODE', 'LATITUDE',\n",
       "       'LONGITUDE', 'LOCATION', 'ON STREET NAME', 'CROSS STREET NAME',\n",
       "       'OFF STREET NAME', 'NUMBER OF PERSONS INJURED',\n",
       "       'NUMBER OF PERSONS KILLED', 'NUMBER OF PEDESTRIANS INJURED',\n",
       "       'NUMBER OF PEDESTRIANS KILLED', 'NUMBER OF CYCLIST INJURED',\n",
       "       'NUMBER OF CYCLIST KILLED', 'NUMBER OF MOTORIST INJURED',\n",
       "       'NUMBER OF MOTORIST KILLED', 'CONTRIBUTING FACTOR VEHICLE 1',\n",
       "       'CONTRIBUTING FACTOR VEHICLE 2', 'CONTRIBUTING FACTOR VEHICLE 3',\n",
       "       'CONTRIBUTING FACTOR VEHICLE 4', 'CONTRIBUTING FACTOR VEHICLE 5',\n",
       "       'COLLISION_ID', 'VEHICLE TYPE CODE 1', 'VEHICLE TYPE CODE 2',\n",
       "       'VEHICLE TYPE CODE 3', 'VEHICLE TYPE CODE 4', 'VEHICLE TYPE CODE 5',\n",
       "       'UNIQUE_ID', 'CRASH_DATE', 'CRASH_TIME', 'PERSON_ID', 'PERSON_TYPE',\n",
       "       'PERSON_INJURY', 'VEHICLE_ID', 'PERSON_AGE', 'EJECTION',\n",
       "       'EMOTIONAL_STATUS', 'BODILY_INJURY', 'POSITION_IN_VEHICLE',\n",
       "       'SAFETY_EQUIPMENT', 'PED_LOCATION', 'PED_ACTION', 'COMPLAINT',\n",
       "       'PED_ROLE', 'CONTRIBUTING_FACTOR_1', 'CONTRIBUTING_FACTOR_2',\n",
       "       'PERSON_SEX', 'YEAR'],\n",
       "      dtype='object')"
      ]
     },
     "execution_count": 4,
     "metadata": {},
     "output_type": "execute_result"
    }
   ],
   "source": [
    "data.columns"
   ]
  },
  {
   "cell_type": "markdown",
   "id": "920b396e",
   "metadata": {},
   "source": [
    "# Descriptive Analysis"
   ]
  },
  {
   "cell_type": "code",
   "execution_count": 5,
   "id": "cbc44916",
   "metadata": {},
   "outputs": [
    {
     "name": "stdout",
     "output_type": "stream",
     "text": [
      "\n",
      "Data types:\n",
      " CRASH DATE                        object\n",
      "CRASH TIME                        object\n",
      "BOROUGH                           object\n",
      "ZIP CODE                          object\n",
      "LATITUDE                         float64\n",
      "LONGITUDE                        float64\n",
      "LOCATION                          object\n",
      "ON STREET NAME                    object\n",
      "CROSS STREET NAME                 object\n",
      "OFF STREET NAME                   object\n",
      "NUMBER OF PERSONS INJURED        float64\n",
      "NUMBER OF PERSONS KILLED         float64\n",
      "NUMBER OF PEDESTRIANS INJURED      int64\n",
      "NUMBER OF PEDESTRIANS KILLED       int64\n",
      "NUMBER OF CYCLIST INJURED          int64\n",
      "NUMBER OF CYCLIST KILLED           int64\n",
      "NUMBER OF MOTORIST INJURED         int64\n",
      "NUMBER OF MOTORIST KILLED          int64\n",
      "CONTRIBUTING FACTOR VEHICLE 1     object\n",
      "CONTRIBUTING FACTOR VEHICLE 2     object\n",
      "CONTRIBUTING FACTOR VEHICLE 3     object\n",
      "CONTRIBUTING FACTOR VEHICLE 4     object\n",
      "CONTRIBUTING FACTOR VEHICLE 5     object\n",
      "COLLISION_ID                       int64\n",
      "VEHICLE TYPE CODE 1               object\n",
      "VEHICLE TYPE CODE 2               object\n",
      "VEHICLE TYPE CODE 3               object\n",
      "VEHICLE TYPE CODE 4               object\n",
      "VEHICLE TYPE CODE 5               object\n",
      "UNIQUE_ID                          int64\n",
      "CRASH_DATE                        object\n",
      "CRASH_TIME                        object\n",
      "PERSON_ID                         object\n",
      "PERSON_TYPE                       object\n",
      "PERSON_INJURY                     object\n",
      "VEHICLE_ID                       float64\n",
      "PERSON_AGE                       float64\n",
      "EJECTION                          object\n",
      "EMOTIONAL_STATUS                  object\n",
      "BODILY_INJURY                     object\n",
      "POSITION_IN_VEHICLE               object\n",
      "SAFETY_EQUIPMENT                  object\n",
      "PED_LOCATION                      object\n",
      "PED_ACTION                        object\n",
      "COMPLAINT                         object\n",
      "PED_ROLE                          object\n",
      "CONTRIBUTING_FACTOR_1             object\n",
      "CONTRIBUTING_FACTOR_2             object\n",
      "PERSON_SEX                        object\n",
      "YEAR                               int64\n",
      "dtype: object\n"
     ]
    }
   ],
   "source": [
    "#displaying the data types\n",
    "print(\"\\nData types:\\n\", data.dtypes)"
   ]
  },
  {
   "cell_type": "code",
   "execution_count": 6,
   "id": "a965610b",
   "metadata": {},
   "outputs": [
    {
     "name": "stdout",
     "output_type": "stream",
     "text": [
      "<class 'pandas.core.frame.DataFrame'>\n",
      "RangeIndex: 5127055 entries, 0 to 5127054\n",
      "Data columns (total 50 columns):\n",
      " #   Column                         Dtype  \n",
      "---  ------                         -----  \n",
      " 0   CRASH DATE                     object \n",
      " 1   CRASH TIME                     object \n",
      " 2   BOROUGH                        object \n",
      " 3   ZIP CODE                       object \n",
      " 4   LATITUDE                       float64\n",
      " 5   LONGITUDE                      float64\n",
      " 6   LOCATION                       object \n",
      " 7   ON STREET NAME                 object \n",
      " 8   CROSS STREET NAME              object \n",
      " 9   OFF STREET NAME                object \n",
      " 10  NUMBER OF PERSONS INJURED      float64\n",
      " 11  NUMBER OF PERSONS KILLED       float64\n",
      " 12  NUMBER OF PEDESTRIANS INJURED  int64  \n",
      " 13  NUMBER OF PEDESTRIANS KILLED   int64  \n",
      " 14  NUMBER OF CYCLIST INJURED      int64  \n",
      " 15  NUMBER OF CYCLIST KILLED       int64  \n",
      " 16  NUMBER OF MOTORIST INJURED     int64  \n",
      " 17  NUMBER OF MOTORIST KILLED      int64  \n",
      " 18  CONTRIBUTING FACTOR VEHICLE 1  object \n",
      " 19  CONTRIBUTING FACTOR VEHICLE 2  object \n",
      " 20  CONTRIBUTING FACTOR VEHICLE 3  object \n",
      " 21  CONTRIBUTING FACTOR VEHICLE 4  object \n",
      " 22  CONTRIBUTING FACTOR VEHICLE 5  object \n",
      " 23  COLLISION_ID                   int64  \n",
      " 24  VEHICLE TYPE CODE 1            object \n",
      " 25  VEHICLE TYPE CODE 2            object \n",
      " 26  VEHICLE TYPE CODE 3            object \n",
      " 27  VEHICLE TYPE CODE 4            object \n",
      " 28  VEHICLE TYPE CODE 5            object \n",
      " 29  UNIQUE_ID                      int64  \n",
      " 30  CRASH_DATE                     object \n",
      " 31  CRASH_TIME                     object \n",
      " 32  PERSON_ID                      object \n",
      " 33  PERSON_TYPE                    object \n",
      " 34  PERSON_INJURY                  object \n",
      " 35  VEHICLE_ID                     float64\n",
      " 36  PERSON_AGE                     float64\n",
      " 37  EJECTION                       object \n",
      " 38  EMOTIONAL_STATUS               object \n",
      " 39  BODILY_INJURY                  object \n",
      " 40  POSITION_IN_VEHICLE            object \n",
      " 41  SAFETY_EQUIPMENT               object \n",
      " 42  PED_LOCATION                   object \n",
      " 43  PED_ACTION                     object \n",
      " 44  COMPLAINT                      object \n",
      " 45  PED_ROLE                       object \n",
      " 46  CONTRIBUTING_FACTOR_1          object \n",
      " 47  CONTRIBUTING_FACTOR_2          object \n",
      " 48  PERSON_SEX                     object \n",
      " 49  YEAR                           int64  \n",
      "dtypes: float64(6), int64(9), object(35)\n",
      "memory usage: 1.9+ GB\n"
     ]
    }
   ],
   "source": [
    "#information about the dataframe\n",
    "data.info()"
   ]
  },
  {
   "cell_type": "markdown",
   "id": "e209b356",
   "metadata": {},
   "source": [
    "# Data Cleaning"
   ]
  },
  {
   "cell_type": "code",
   "execution_count": 7,
   "id": "b103a852",
   "metadata": {},
   "outputs": [
    {
     "name": "stdout",
     "output_type": "stream",
     "text": [
      "CRASH DATE                                             0\n",
      "CRASH TIME                                             0\n",
      "BOROUGH                                          1948106\n",
      "ZIP CODE                                         1948943\n",
      "LATITUDE                                          495179\n",
      "LONGITUDE                                         495179\n",
      "LOCATION                                          495179\n",
      "ON STREET NAME                                   1067111\n",
      "CROSS STREET NAME                                2506338\n",
      "OFF STREET NAME                                  4098079\n",
      "NUMBER OF PERSONS INJURED                             42\n",
      "NUMBER OF PERSONS KILLED                              92\n",
      "NUMBER OF PEDESTRIANS INJURED                          0\n",
      "NUMBER OF PEDESTRIANS KILLED                           0\n",
      "NUMBER OF CYCLIST INJURED                              0\n",
      "NUMBER OF CYCLIST KILLED                               0\n",
      "NUMBER OF MOTORIST INJURED                             0\n",
      "NUMBER OF MOTORIST KILLED                              0\n",
      "CONTRIBUTING FACTOR VEHICLE 1                       5895\n",
      "CONTRIBUTING FACTOR VEHICLE 2                     548229\n",
      "CONTRIBUTING FACTOR VEHICLE 3                    4516810\n",
      "CONTRIBUTING FACTOR VEHICLE 4                    4954245\n",
      "CONTRIBUTING FACTOR VEHICLE 5                    5070835\n",
      "COLLISION_ID                                           0\n",
      "VEHICLE TYPE CODE 1                                15617\n",
      "VEHICLE TYPE CODE 2                               702221\n",
      "VEHICLE TYPE CODE 3                              4534634\n",
      "VEHICLE TYPE CODE 4                              4959072\n",
      "VEHICLE TYPE CODE 5                              5072267\n",
      "UNIQUE_ID                                              0\n",
      "CRASH_DATE                                             0\n",
      "CRASH_TIME                                             0\n",
      "PERSON_ID                                             19\n",
      "PERSON_TYPE                                            0\n",
      "PERSON_INJURY                                          0\n",
      "VEHICLE_ID                                        206049\n",
      "PERSON_AGE                                        533513\n",
      "EJECTION                                         2499533\n",
      "EMOTIONAL_STATUS                                 2424823\n",
      "BODILY_INJURY                                    2424780\n",
      "POSITION_IN_VEHICLE                              2499170\n",
      "SAFETY_EQUIPMENT                                 2499242\n",
      "PED_LOCATION                                     5047792\n",
      "PED_ACTION                                       5047893\n",
      "COMPLAINT                                        2424773\n",
      "PED_ROLE                                          194891\n",
      "CONTRIBUTING_FACTOR_1                            5049093\n",
      "CONTRIBUTING_FACTOR_2                            5049197\n",
      "PERSON_SEX                                        579432\n",
      "YEAR                                                   0\n",
      "\n"
     ]
    }
   ],
   "source": [
    "#checking for null values in the each column of the dataset\n",
    "for x in range(50):\n",
    "    print(\"%-45s %10d\" % (data.columns.values[x], data.iloc[:,x].isna().sum()))\n",
    "print()"
   ]
  },
  {
   "cell_type": "code",
   "execution_count": 8,
   "id": "b65dfd18",
   "metadata": {},
   "outputs": [
    {
     "name": "stdout",
     "output_type": "stream",
     "text": [
      "Datatype conversion completed!\n"
     ]
    }
   ],
   "source": [
    "# changing datatype of crash date and crash time to datetime since we will need them in tableau\n",
    "\n",
    "data['CRASH DATE'] = data['CRASH DATE'].astype('datetime64[ns]')\n",
    "data['CRASH TIME'] = data['CRASH TIME'].astype('datetime64[ns]')\n"
   ]
  },
  {
   "cell_type": "code",
   "execution_count": null,
   "id": "3efcb6ef",
   "metadata": {},
   "outputs": [],
   "source": [
    "# Converting required string columns to string datatype\n",
    "data['BOROUGH'] = data['BOROUGH'].astype('str')\n",
    "data['ON STREET NAME'] = data['ON STREET NAME'].astype('str')\n",
    "data['CROSS STREET NAME'] = data['CROSS STREET NAME'].astype('str')\n",
    "data['OFF STREET NAME'] = data['OFF STREET NAME'].astype('str')\n",
    "data['CONTRIBUTING FACTOR VEHICLE 1'] = data['CONTRIBUTING FACTOR VEHICLE 1'].astype('str')\n",
    "data['CONTRIBUTING FACTOR VEHICLE 2'] = data['CONTRIBUTING FACTOR VEHICLE 2'].astype('str')\n",
    "data['CONTRIBUTING FACTOR VEHICLE 3'] = data['CONTRIBUTING FACTOR VEHICLE 3'].astype('str')\n",
    "data['CONTRIBUTING FACTOR VEHICLE 4'] = data['CONTRIBUTING FACTOR VEHICLE 4'].astype('str')\n",
    "data['CONTRIBUTING FACTOR VEHICLE 5'] = data['CONTRIBUTING FACTOR VEHICLE 5'].astype('str')\n",
    "data['VEHICLE TYPE CODE 1'] = data['VEHICLE TYPE CODE 1'].astype('str')\n",
    "data['VEHICLE TYPE CODE 2'] = data['VEHICLE TYPE CODE 2'].astype('str')\n",
    "data['VEHICLE TYPE CODE 3'] = data['VEHICLE TYPE CODE 3'].astype('str')\n",
    "data['VEHICLE TYPE CODE 4'] = data['VEHICLE TYPE CODE 4'].astype('str')\n",
    "data['VEHICLE TYPE CODE 5'] = data['VEHICLE TYPE CODE 5'].astype('str')"
   ]
  },
  {
   "cell_type": "code",
   "execution_count": null,
   "id": "622097d1",
   "metadata": {},
   "outputs": [],
   "source": [
    "#filling null values with 0 and then converting the datatype\n",
    "data['NUMBER OF PERSONS KILLED'] = data['NUMBER OF PERSONS KILLED'].fillna(0)\n",
    "data['NUMBER OF PERSONS INJURED'] = data['NUMBER OF PERSONS INJURED'].fillna(0)"
   ]
  },
  {
   "cell_type": "code",
   "execution_count": null,
   "id": "34eac21f",
   "metadata": {},
   "outputs": [],
   "source": [
    "\n",
    "data['NUMBER OF PERSONS KILLED'] = data['NUMBER OF PERSONS KILLED'].astype('int')\n",
    "data['NUMBER OF PERSONS INJURED'] = data['NUMBER OF PERSONS INJURED'].astype('int')"
   ]
  },
  {
   "cell_type": "code",
   "execution_count": 9,
   "id": "4ce31233",
   "metadata": {},
   "outputs": [
    {
     "name": "stdout",
     "output_type": "stream",
     "text": [
      "<class 'pandas.core.frame.DataFrame'>\n",
      "RangeIndex: 5127055 entries, 0 to 5127054\n",
      "Data columns (total 50 columns):\n",
      " #   Column                         Dtype         \n",
      "---  ------                         -----         \n",
      " 0   CRASH DATE                     datetime64[ns]\n",
      " 1   CRASH TIME                     datetime64[ns]\n",
      " 2   BOROUGH                        object        \n",
      " 3   ZIP CODE                       object        \n",
      " 4   LATITUDE                       float64       \n",
      " 5   LONGITUDE                      float64       \n",
      " 6   LOCATION                       object        \n",
      " 7   ON STREET NAME                 object        \n",
      " 8   CROSS STREET NAME              object        \n",
      " 9   OFF STREET NAME                object        \n",
      " 10  NUMBER OF PERSONS INJURED      int32         \n",
      " 11  NUMBER OF PERSONS KILLED       int32         \n",
      " 12  NUMBER OF PEDESTRIANS INJURED  int64         \n",
      " 13  NUMBER OF PEDESTRIANS KILLED   int64         \n",
      " 14  NUMBER OF CYCLIST INJURED      int64         \n",
      " 15  NUMBER OF CYCLIST KILLED       int64         \n",
      " 16  NUMBER OF MOTORIST INJURED     int64         \n",
      " 17  NUMBER OF MOTORIST KILLED      int64         \n",
      " 18  CONTRIBUTING FACTOR VEHICLE 1  object        \n",
      " 19  CONTRIBUTING FACTOR VEHICLE 2  object        \n",
      " 20  CONTRIBUTING FACTOR VEHICLE 3  object        \n",
      " 21  CONTRIBUTING FACTOR VEHICLE 4  object        \n",
      " 22  CONTRIBUTING FACTOR VEHICLE 5  object        \n",
      " 23  COLLISION_ID                   int64         \n",
      " 24  VEHICLE TYPE CODE 1            object        \n",
      " 25  VEHICLE TYPE CODE 2            object        \n",
      " 26  VEHICLE TYPE CODE 3            object        \n",
      " 27  VEHICLE TYPE CODE 4            object        \n",
      " 28  VEHICLE TYPE CODE 5            object        \n",
      " 29  UNIQUE_ID                      int64         \n",
      " 30  CRASH_DATE                     object        \n",
      " 31  CRASH_TIME                     object        \n",
      " 32  PERSON_ID                      object        \n",
      " 33  PERSON_TYPE                    object        \n",
      " 34  PERSON_INJURY                  object        \n",
      " 35  VEHICLE_ID                     float64       \n",
      " 36  PERSON_AGE                     float64       \n",
      " 37  EJECTION                       object        \n",
      " 38  EMOTIONAL_STATUS               object        \n",
      " 39  BODILY_INJURY                  object        \n",
      " 40  POSITION_IN_VEHICLE            object        \n",
      " 41  SAFETY_EQUIPMENT               object        \n",
      " 42  PED_LOCATION                   object        \n",
      " 43  PED_ACTION                     object        \n",
      " 44  COMPLAINT                      object        \n",
      " 45  PED_ROLE                       object        \n",
      " 46  CONTRIBUTING_FACTOR_1          object        \n",
      " 47  CONTRIBUTING_FACTOR_2          object        \n",
      " 48  PERSON_SEX                     object        \n",
      " 49  YEAR                           int64         \n",
      "dtypes: datetime64[ns](2), float64(4), int32(2), int64(9), object(33)\n",
      "memory usage: 1.9+ GB\n"
     ]
    }
   ],
   "source": [
    "#information about the dataframe\n",
    "data.info()"
   ]
  },
  {
   "cell_type": "code",
   "execution_count": 10,
   "id": "c178319e",
   "metadata": {},
   "outputs": [
    {
     "name": "stdout",
     "output_type": "stream",
     "text": [
      "Replace Successful\n"
     ]
    }
   ],
   "source": [
    "# Replace 'nan' string (in any case) with actual NaN\n",
    "data['BOROUGH'] = data['BOROUGH'].replace(['nan', 'Nan', 'NaN', 'NAN'], np.nan)\n",
    "\n",
    "# Now replace NaN values with 'No Value'\n",
    "data['BOROUGH'] = data['BOROUGH'].fillna('No Value')\n",
    "\n",
    "print('Replace Successful')"
   ]
  },
  {
   "cell_type": "code",
   "execution_count": 11,
   "id": "97a04e44",
   "metadata": {},
   "outputs": [
    {
     "data": {
      "text/plain": [
       "array(['No Value', 'BROOKLYN', 'BRONX', 'MANHATTAN', 'QUEENS',\n",
       "       'STATEN ISLAND'], dtype=object)"
      ]
     },
     "execution_count": 11,
     "metadata": {},
     "output_type": "execute_result"
    }
   ],
   "source": [
    "data['BOROUGH'].unique()"
   ]
  },
  {
   "cell_type": "code",
   "execution_count": 12,
   "id": "00cc2752",
   "metadata": {},
   "outputs": [
    {
     "name": "stdout",
     "output_type": "stream",
     "text": [
      "Replace Successful\n"
     ]
    }
   ],
   "source": [
    "# Replace 'nan' string (in any case) with actual NaN\n",
    "data['CONTRIBUTING FACTOR VEHICLE 1'] = data['CONTRIBUTING FACTOR VEHICLE 1'].replace(['nan', 'Nan', 'NaN', 'NAN'], np.nan)\n",
    "\n",
    "# Now replace NaN values with 'No Value'\n",
    "data['CONTRIBUTING FACTOR VEHICLE 1'] = data['CONTRIBUTING FACTOR VEHICLE 1'].fillna('No Value')\n",
    "\n",
    "print('Replace Successful')"
   ]
  },
  {
   "cell_type": "code",
   "execution_count": 13,
   "id": "867c1125",
   "metadata": {},
   "outputs": [
    {
     "data": {
      "text/plain": [
       "array(['Aggressive Driving/Road Rage', 'Pavement Slippery',\n",
       "       'Following Too Closely', 'Unspecified', 'No Value',\n",
       "       'Passing Too Closely', 'Passing or Lane Usage Improper',\n",
       "       'Turning Improperly', 'Unsafe Lane Changing', 'Unsafe Speed',\n",
       "       'Reaction to Uninvolved Vehicle', 'Steering Failure',\n",
       "       'Traffic Control Disregarded', 'Other Vehicular',\n",
       "       'Driver Inattention/Distraction', 'Oversized Vehicle',\n",
       "       'Pedestrian/Bicyclist/Other Pedestrian Error/Confusion',\n",
       "       'Alcohol Involvement', 'View Obstructed/Limited',\n",
       "       'Driver Inexperience', 'Failure to Yield Right-of-Way', 'Illnes',\n",
       "       'Lost Consciousness', 'Brakes Defective', 'Backing Unsafely',\n",
       "       'Glare', 'Passenger Distraction', 'Fell Asleep',\n",
       "       'Obstruction/Debris', 'Tinted Windows', 'Animals Action',\n",
       "       'Drugs (illegal)', 'Pavement Defective', 'Other Lighting Defects',\n",
       "       'Outside Car Distraction', 'Driverless/Runaway Vehicle',\n",
       "       'Tire Failure/Inadequate', 'Fatigued/Drowsy',\n",
       "       'Headlights Defective', 'Accelerator Defective',\n",
       "       'Failure to Keep Right', 'Physical Disability',\n",
       "       'Eating or Drinking', 'Cell Phone (hands-free)',\n",
       "       'Lane Marking Improper/Inadequate', 'Cell Phone (hand-Held)',\n",
       "       'Using On Board Navigation Device', 'Other Electronic Device',\n",
       "       'Traffic Control Device Improper/Non-Working',\n",
       "       'Tow Hitch Defective', 'Windshield Inadequate',\n",
       "       'Vehicle Vandalism', 'Prescription Medication',\n",
       "       'Shoulders Defective/Improper', 'Listening/Using Headphones',\n",
       "       'Texting', '80', 'Reaction to Other Uninvolved Vehicle', '1',\n",
       "       'Illness', 'Drugs (Illegal)', 'Cell Phone (hand-held)'],\n",
       "      dtype=object)"
      ]
     },
     "execution_count": 13,
     "metadata": {},
     "output_type": "execute_result"
    }
   ],
   "source": [
    "data['CONTRIBUTING FACTOR VEHICLE 1'].unique()"
   ]
  },
  {
   "cell_type": "code",
   "execution_count": 14,
   "id": "bb56ebad",
   "metadata": {},
   "outputs": [
    {
     "name": "stdout",
     "output_type": "stream",
     "text": [
      "Replace Successful\n"
     ]
    }
   ],
   "source": [
    "# Replace 'nan' string (in any case) with actual NaN\n",
    "data['VEHICLE TYPE CODE 1'] = data['VEHICLE TYPE CODE 1'].replace(['nan', 'Nan', 'NaN', 'NAN'], np.nan)\n",
    "\n",
    "# Now replace NaN values with 'No Value'\n",
    "data['VEHICLE TYPE CODE 1'] = data['VEHICLE TYPE CODE 1'].fillna('No Value')\n",
    "\n",
    "print('Replace Successful')"
   ]
  },
  {
   "cell_type": "code",
   "execution_count": 15,
   "id": "99e3c09f",
   "metadata": {},
   "outputs": [
    {
     "data": {
      "text/plain": [
       "array(['Sedan', 'No Value', 'Dump', ..., 'Ford Trans', 'box van', 'a'],\n",
       "      dtype=object)"
      ]
     },
     "execution_count": 15,
     "metadata": {},
     "output_type": "execute_result"
    }
   ],
   "source": [
    "data['VEHICLE TYPE CODE 1'].unique()"
   ]
  },
  {
   "cell_type": "code",
   "execution_count": 16,
   "id": "f4545801",
   "metadata": {},
   "outputs": [
    {
     "data": {
      "text/plain": [
       "1563"
      ]
     },
     "execution_count": 16,
     "metadata": {},
     "output_type": "execute_result"
    }
   ],
   "source": [
    "data['VEHICLE TYPE CODE 1'].nunique()"
   ]
  },
  {
   "cell_type": "markdown",
   "id": "c951d827",
   "metadata": {},
   "source": [
    "There are a lot of vehicle types which we will filter in excel directly later.\n",
    "\n",
    "First we will clean and prepare our data"
   ]
  },
  {
   "cell_type": "code",
   "execution_count": 17,
   "id": "cdce7052",
   "metadata": {},
   "outputs": [
    {
     "name": "stdout",
     "output_type": "stream",
     "text": [
      "Variables dropped!\n"
     ]
    }
   ],
   "source": [
    "#dropping columns which have maximum null values and are not required for analysis\n",
    "data = data.drop(['LOCATION', 'ON STREET NAME', 'CROSS STREET NAME', 'OFF STREET NAME', 'CONTRIBUTING FACTOR VEHICLE 2',\n",
    "'CONTRIBUTING FACTOR VEHICLE 3','CONTRIBUTING FACTOR VEHICLE 4','CONTRIBUTING FACTOR VEHICLE 5', 'VEHICLE TYPE CODE 2', 'VEHICLE TYPE CODE 3', 'VEHICLE TYPE CODE 4',\n",
    "'VEHICLE TYPE CODE 5'], axis=1)\n",
    "print(\"Variables dropped!\")"
   ]
  },
  {
   "cell_type": "code",
   "execution_count": 18,
   "id": "6071affe",
   "metadata": {},
   "outputs": [
    {
     "name": "stdout",
     "output_type": "stream",
     "text": [
      "Total number of Rows and Columns: (5127055, 38)\n",
      "Column Values: Index(['CRASH DATE', 'CRASH TIME', 'BOROUGH', 'ZIP CODE', 'LATITUDE',\n",
      "       'LONGITUDE', 'NUMBER OF PERSONS INJURED', 'NUMBER OF PERSONS KILLED',\n",
      "       'NUMBER OF PEDESTRIANS INJURED', 'NUMBER OF PEDESTRIANS KILLED',\n",
      "       'NUMBER OF CYCLIST INJURED', 'NUMBER OF CYCLIST KILLED',\n",
      "       'NUMBER OF MOTORIST INJURED', 'NUMBER OF MOTORIST KILLED',\n",
      "       'CONTRIBUTING FACTOR VEHICLE 1', 'COLLISION_ID', 'VEHICLE TYPE CODE 1',\n",
      "       'UNIQUE_ID', 'CRASH_DATE', 'CRASH_TIME', 'PERSON_ID', 'PERSON_TYPE',\n",
      "       'PERSON_INJURY', 'VEHICLE_ID', 'PERSON_AGE', 'EJECTION',\n",
      "       'EMOTIONAL_STATUS', 'BODILY_INJURY', 'POSITION_IN_VEHICLE',\n",
      "       'SAFETY_EQUIPMENT', 'PED_LOCATION', 'PED_ACTION', 'COMPLAINT',\n",
      "       'PED_ROLE', 'CONTRIBUTING_FACTOR_1', 'CONTRIBUTING_FACTOR_2',\n",
      "       'PERSON_SEX', 'YEAR'],\n",
      "      dtype='object')\n"
     ]
    }
   ],
   "source": [
    "#checking for cleaned data\n",
    "\n",
    "print(\"Total number of Rows and Columns:\",data.shape)\n",
    "print(\"Column Values:\", data.columns)"
   ]
  },
  {
   "cell_type": "code",
   "execution_count": 19,
   "id": "13c5d879",
   "metadata": {},
   "outputs": [
    {
     "name": "stdout",
     "output_type": "stream",
     "text": [
      "CRASH DATE                                             0\n",
      "CRASH TIME                                             0\n",
      "BOROUGH                                                0\n",
      "ZIP CODE                                         1948943\n",
      "LATITUDE                                          495179\n",
      "LONGITUDE                                         495179\n",
      "NUMBER OF PERSONS INJURED                              0\n",
      "NUMBER OF PERSONS KILLED                               0\n",
      "NUMBER OF PEDESTRIANS INJURED                          0\n",
      "NUMBER OF PEDESTRIANS KILLED                           0\n",
      "NUMBER OF CYCLIST INJURED                              0\n",
      "NUMBER OF CYCLIST KILLED                               0\n",
      "NUMBER OF MOTORIST INJURED                             0\n",
      "NUMBER OF MOTORIST KILLED                              0\n",
      "CONTRIBUTING FACTOR VEHICLE 1                          0\n",
      "COLLISION_ID                                           0\n",
      "VEHICLE TYPE CODE 1                                    0\n",
      "UNIQUE_ID                                              0\n",
      "CRASH_DATE                                             0\n",
      "CRASH_TIME                                             0\n",
      "PERSON_ID                                             19\n",
      "PERSON_TYPE                                            0\n",
      "PERSON_INJURY                                          0\n",
      "VEHICLE_ID                                        206049\n",
      "PERSON_AGE                                        533513\n",
      "EJECTION                                         2499533\n",
      "EMOTIONAL_STATUS                                 2424823\n",
      "BODILY_INJURY                                    2424780\n",
      "POSITION_IN_VEHICLE                              2499170\n",
      "SAFETY_EQUIPMENT                                 2499242\n",
      "PED_LOCATION                                     5047792\n",
      "PED_ACTION                                       5047893\n",
      "COMPLAINT                                        2424773\n",
      "PED_ROLE                                          194891\n",
      "CONTRIBUTING_FACTOR_1                            5049093\n",
      "\n"
     ]
    }
   ],
   "source": [
    "#checking for null values in the each column of the dataset after data cleaning\n",
    "for x in range(35):\n",
    "    print(\"%-45s %10d\" % (data.columns.values[x], data.iloc[:,x].isna().sum()))\n",
    "print()"
   ]
  },
  {
   "cell_type": "code",
   "execution_count": 20,
   "id": "6f97ff53",
   "metadata": {},
   "outputs": [
    {
     "name": "stdout",
     "output_type": "stream",
     "text": [
      "<class 'pandas.core.frame.DataFrame'>\n",
      "RangeIndex: 5127055 entries, 0 to 5127054\n",
      "Data columns (total 38 columns):\n",
      " #   Column                         Dtype         \n",
      "---  ------                         -----         \n",
      " 0   CRASH DATE                     datetime64[ns]\n",
      " 1   CRASH TIME                     datetime64[ns]\n",
      " 2   BOROUGH                        object        \n",
      " 3   ZIP CODE                       object        \n",
      " 4   LATITUDE                       float64       \n",
      " 5   LONGITUDE                      float64       \n",
      " 6   NUMBER OF PERSONS INJURED      int32         \n",
      " 7   NUMBER OF PERSONS KILLED       int32         \n",
      " 8   NUMBER OF PEDESTRIANS INJURED  int64         \n",
      " 9   NUMBER OF PEDESTRIANS KILLED   int64         \n",
      " 10  NUMBER OF CYCLIST INJURED      int64         \n",
      " 11  NUMBER OF CYCLIST KILLED       int64         \n",
      " 12  NUMBER OF MOTORIST INJURED     int64         \n",
      " 13  NUMBER OF MOTORIST KILLED      int64         \n",
      " 14  CONTRIBUTING FACTOR VEHICLE 1  object        \n",
      " 15  COLLISION_ID                   int64         \n",
      " 16  VEHICLE TYPE CODE 1            object        \n",
      " 17  UNIQUE_ID                      int64         \n",
      " 18  CRASH_DATE                     object        \n",
      " 19  CRASH_TIME                     object        \n",
      " 20  PERSON_ID                      object        \n",
      " 21  PERSON_TYPE                    object        \n",
      " 22  PERSON_INJURY                  object        \n",
      " 23  VEHICLE_ID                     float64       \n",
      " 24  PERSON_AGE                     float64       \n",
      " 25  EJECTION                       object        \n",
      " 26  EMOTIONAL_STATUS               object        \n",
      " 27  BODILY_INJURY                  object        \n",
      " 28  POSITION_IN_VEHICLE            object        \n",
      " 29  SAFETY_EQUIPMENT               object        \n",
      " 30  PED_LOCATION                   object        \n",
      " 31  PED_ACTION                     object        \n",
      " 32  COMPLAINT                      object        \n",
      " 33  PED_ROLE                       object        \n",
      " 34  CONTRIBUTING_FACTOR_1          object        \n",
      " 35  CONTRIBUTING_FACTOR_2          object        \n",
      " 36  PERSON_SEX                     object        \n",
      " 37  YEAR                           int64         \n",
      "dtypes: datetime64[ns](2), float64(4), int32(2), int64(9), object(21)\n",
      "memory usage: 1.4+ GB\n"
     ]
    }
   ],
   "source": [
    "data.info()"
   ]
  },
  {
   "cell_type": "markdown",
   "id": "e3f304be",
   "metadata": {},
   "source": [
    "**Observation**\n",
    "\n",
    "We have cleaned half of our data already.\n",
    "\n",
    "Creating a csv of the same for later reference if needed."
   ]
  },
  {
   "cell_type": "code",
   "execution_count": 21,
   "id": "ab70d19d",
   "metadata": {},
   "outputs": [],
   "source": [
    "data.to_csv('Accident_Data_cleaned_1.csv', index=False)"
   ]
  },
  {
   "cell_type": "markdown",
   "id": "2137427a",
   "metadata": {},
   "source": [
    "Now we will clean the next half of the data"
   ]
  },
  {
   "cell_type": "code",
   "execution_count": 22,
   "id": "48fa4b5f",
   "metadata": {},
   "outputs": [
    {
     "data": {
      "text/plain": [
       "array(['4f73a3c3-fef4-428f-9c86-457f1d7a73c7',\n",
       "       '47a9aaaf-2b2d-4923-9bf2-f968d96b981b',\n",
       "       'ee8ed934-80f6-4809-b711-2c1e1c1f9ac6', ...,\n",
       "       '199cbc18-3570-475a-90d9-3807631ed1bf',\n",
       "       '3568cd7e-c44f-44a7-af05-d3ed276eb9bb',\n",
       "       'e569a7df-6a82-41d9-85c6-01cb5ad1c7f7'], dtype=object)"
      ]
     },
     "execution_count": 22,
     "metadata": {},
     "output_type": "execute_result"
    }
   ],
   "source": [
    "data['PERSON_ID'].unique()"
   ]
  },
  {
   "cell_type": "markdown",
   "id": "476f6d7e",
   "metadata": {},
   "source": [
    "The column person_id is of no use to us for visualiztion purpose.\n",
    "\n",
    "Hence we will drop it"
   ]
  },
  {
   "cell_type": "code",
   "execution_count": 23,
   "id": "597aa868",
   "metadata": {},
   "outputs": [
    {
     "name": "stdout",
     "output_type": "stream",
     "text": [
      "Variable dropped!\n"
     ]
    }
   ],
   "source": [
    "#dropping column PERSON_ID\n",
    "data = data.drop(['PERSON_ID'], axis=1)\n",
    "print(\"Variable dropped!\")"
   ]
  },
  {
   "cell_type": "code",
   "execution_count": 24,
   "id": "fd8d6073",
   "metadata": {},
   "outputs": [
    {
     "name": "stdout",
     "output_type": "stream",
     "text": [
      "Total number of Rows and Columns: (5127055, 37)\n",
      "Column Values: Index(['CRASH DATE', 'CRASH TIME', 'BOROUGH', 'ZIP CODE', 'LATITUDE',\n",
      "       'LONGITUDE', 'NUMBER OF PERSONS INJURED', 'NUMBER OF PERSONS KILLED',\n",
      "       'NUMBER OF PEDESTRIANS INJURED', 'NUMBER OF PEDESTRIANS KILLED',\n",
      "       'NUMBER OF CYCLIST INJURED', 'NUMBER OF CYCLIST KILLED',\n",
      "       'NUMBER OF MOTORIST INJURED', 'NUMBER OF MOTORIST KILLED',\n",
      "       'CONTRIBUTING FACTOR VEHICLE 1', 'COLLISION_ID', 'VEHICLE TYPE CODE 1',\n",
      "       'UNIQUE_ID', 'CRASH_DATE', 'CRASH_TIME', 'PERSON_TYPE', 'PERSON_INJURY',\n",
      "       'VEHICLE_ID', 'PERSON_AGE', 'EJECTION', 'EMOTIONAL_STATUS',\n",
      "       'BODILY_INJURY', 'POSITION_IN_VEHICLE', 'SAFETY_EQUIPMENT',\n",
      "       'PED_LOCATION', 'PED_ACTION', 'COMPLAINT', 'PED_ROLE',\n",
      "       'CONTRIBUTING_FACTOR_1', 'CONTRIBUTING_FACTOR_2', 'PERSON_SEX', 'YEAR'],\n",
      "      dtype='object')\n"
     ]
    }
   ],
   "source": [
    "#checking for cleaned data\n",
    "\n",
    "print(\"Total number of Rows and Columns:\",data.shape)\n",
    "print(\"Column Values:\", data.columns)"
   ]
  },
  {
   "cell_type": "code",
   "execution_count": 25,
   "id": "7c84c3a6",
   "metadata": {},
   "outputs": [
    {
     "data": {
      "text/plain": [
       "206049"
      ]
     },
     "execution_count": 25,
     "metadata": {},
     "output_type": "execute_result"
    }
   ],
   "source": [
    "data['VEHICLE_ID'].isna().sum()"
   ]
  },
  {
   "cell_type": "code",
   "execution_count": 26,
   "id": "be9c8cca",
   "metadata": {},
   "outputs": [],
   "source": [
    "#Dropping rows where vehicle ID is none\n",
    "data['VEHICLE_ID'].dropna(inplace=True)"
   ]
  },
  {
   "cell_type": "code",
   "execution_count": 27,
   "id": "a645adee",
   "metadata": {},
   "outputs": [
    {
     "name": "stdout",
     "output_type": "stream",
     "text": [
      "<class 'pandas.core.frame.DataFrame'>\n",
      "RangeIndex: 5127055 entries, 0 to 5127054\n",
      "Data columns (total 37 columns):\n",
      " #   Column                         Dtype         \n",
      "---  ------                         -----         \n",
      " 0   CRASH DATE                     datetime64[ns]\n",
      " 1   CRASH TIME                     datetime64[ns]\n",
      " 2   BOROUGH                        object        \n",
      " 3   ZIP CODE                       object        \n",
      " 4   LATITUDE                       float64       \n",
      " 5   LONGITUDE                      float64       \n",
      " 6   NUMBER OF PERSONS INJURED      int32         \n",
      " 7   NUMBER OF PERSONS KILLED       int32         \n",
      " 8   NUMBER OF PEDESTRIANS INJURED  int64         \n",
      " 9   NUMBER OF PEDESTRIANS KILLED   int64         \n",
      " 10  NUMBER OF CYCLIST INJURED      int64         \n",
      " 11  NUMBER OF CYCLIST KILLED       int64         \n",
      " 12  NUMBER OF MOTORIST INJURED     int64         \n",
      " 13  NUMBER OF MOTORIST KILLED      int64         \n",
      " 14  CONTRIBUTING FACTOR VEHICLE 1  object        \n",
      " 15  COLLISION_ID                   int64         \n",
      " 16  VEHICLE TYPE CODE 1            object        \n",
      " 17  UNIQUE_ID                      int64         \n",
      " 18  CRASH_DATE                     object        \n",
      " 19  CRASH_TIME                     object        \n",
      " 20  PERSON_TYPE                    object        \n",
      " 21  PERSON_INJURY                  object        \n",
      " 22  VEHICLE_ID                     float64       \n",
      " 23  PERSON_AGE                     float64       \n",
      " 24  EJECTION                       object        \n",
      " 25  EMOTIONAL_STATUS               object        \n",
      " 26  BODILY_INJURY                  object        \n",
      " 27  POSITION_IN_VEHICLE            object        \n",
      " 28  SAFETY_EQUIPMENT               object        \n",
      " 29  PED_LOCATION                   object        \n",
      " 30  PED_ACTION                     object        \n",
      " 31  COMPLAINT                      object        \n",
      " 32  PED_ROLE                       object        \n",
      " 33  CONTRIBUTING_FACTOR_1          object        \n",
      " 34  CONTRIBUTING_FACTOR_2          object        \n",
      " 35  PERSON_SEX                     object        \n",
      " 36  YEAR                           int64         \n",
      "dtypes: datetime64[ns](2), float64(4), int32(2), int64(9), object(20)\n",
      "memory usage: 1.4+ GB\n"
     ]
    }
   ],
   "source": [
    "data.info()"
   ]
  },
  {
   "cell_type": "code",
   "execution_count": 28,
   "id": "19777f63",
   "metadata": {},
   "outputs": [
    {
     "name": "stdout",
     "output_type": "stream",
     "text": [
      "Variables dropped!\n"
     ]
    }
   ],
   "source": [
    "#dropping columns which have maximum null values and are not required for analysis\n",
    "data = data.drop(['CONTRIBUTING_FACTOR_1', 'CONTRIBUTING_FACTOR_2'], axis=1)\n",
    "print(\"Variables dropped!\")"
   ]
  },
  {
   "cell_type": "code",
   "execution_count": 29,
   "id": "f5a161d4",
   "metadata": {},
   "outputs": [
    {
     "name": "stdout",
     "output_type": "stream",
     "text": [
      "<class 'pandas.core.frame.DataFrame'>\n",
      "RangeIndex: 5127055 entries, 0 to 5127054\n",
      "Data columns (total 35 columns):\n",
      " #   Column                         Dtype         \n",
      "---  ------                         -----         \n",
      " 0   CRASH DATE                     datetime64[ns]\n",
      " 1   CRASH TIME                     datetime64[ns]\n",
      " 2   BOROUGH                        object        \n",
      " 3   ZIP CODE                       object        \n",
      " 4   LATITUDE                       float64       \n",
      " 5   LONGITUDE                      float64       \n",
      " 6   NUMBER OF PERSONS INJURED      int32         \n",
      " 7   NUMBER OF PERSONS KILLED       int32         \n",
      " 8   NUMBER OF PEDESTRIANS INJURED  int64         \n",
      " 9   NUMBER OF PEDESTRIANS KILLED   int64         \n",
      " 10  NUMBER OF CYCLIST INJURED      int64         \n",
      " 11  NUMBER OF CYCLIST KILLED       int64         \n",
      " 12  NUMBER OF MOTORIST INJURED     int64         \n",
      " 13  NUMBER OF MOTORIST KILLED      int64         \n",
      " 14  CONTRIBUTING FACTOR VEHICLE 1  object        \n",
      " 15  COLLISION_ID                   int64         \n",
      " 16  VEHICLE TYPE CODE 1            object        \n",
      " 17  UNIQUE_ID                      int64         \n",
      " 18  CRASH_DATE                     object        \n",
      " 19  CRASH_TIME                     object        \n",
      " 20  PERSON_TYPE                    object        \n",
      " 21  PERSON_INJURY                  object        \n",
      " 22  VEHICLE_ID                     float64       \n",
      " 23  PERSON_AGE                     float64       \n",
      " 24  EJECTION                       object        \n",
      " 25  EMOTIONAL_STATUS               object        \n",
      " 26  BODILY_INJURY                  object        \n",
      " 27  POSITION_IN_VEHICLE            object        \n",
      " 28  SAFETY_EQUIPMENT               object        \n",
      " 29  PED_LOCATION                   object        \n",
      " 30  PED_ACTION                     object        \n",
      " 31  COMPLAINT                      object        \n",
      " 32  PED_ROLE                       object        \n",
      " 33  PERSON_SEX                     object        \n",
      " 34  YEAR                           int64         \n",
      "dtypes: datetime64[ns](2), float64(4), int32(2), int64(9), object(18)\n",
      "memory usage: 1.3+ GB\n"
     ]
    }
   ],
   "source": [
    "data.info()"
   ]
  },
  {
   "cell_type": "code",
   "execution_count": 30,
   "id": "99b99328",
   "metadata": {},
   "outputs": [
    {
     "name": "stdout",
     "output_type": "stream",
     "text": [
      "Variables dropped!\n"
     ]
    }
   ],
   "source": [
    "#dropping columns which have maximum null values and are not required for analysis\n",
    "data = data.drop(['PED_LOCATION', 'PED_ACTION'], axis=1)\n",
    "print(\"Variables dropped!\")"
   ]
  },
  {
   "cell_type": "code",
   "execution_count": 31,
   "id": "d91abd9a",
   "metadata": {},
   "outputs": [
    {
     "name": "stdout",
     "output_type": "stream",
     "text": [
      "<class 'pandas.core.frame.DataFrame'>\n",
      "RangeIndex: 5127055 entries, 0 to 5127054\n",
      "Data columns (total 33 columns):\n",
      " #   Column                         Dtype         \n",
      "---  ------                         -----         \n",
      " 0   CRASH DATE                     datetime64[ns]\n",
      " 1   CRASH TIME                     datetime64[ns]\n",
      " 2   BOROUGH                        object        \n",
      " 3   ZIP CODE                       object        \n",
      " 4   LATITUDE                       float64       \n",
      " 5   LONGITUDE                      float64       \n",
      " 6   NUMBER OF PERSONS INJURED      int32         \n",
      " 7   NUMBER OF PERSONS KILLED       int32         \n",
      " 8   NUMBER OF PEDESTRIANS INJURED  int64         \n",
      " 9   NUMBER OF PEDESTRIANS KILLED   int64         \n",
      " 10  NUMBER OF CYCLIST INJURED      int64         \n",
      " 11  NUMBER OF CYCLIST KILLED       int64         \n",
      " 12  NUMBER OF MOTORIST INJURED     int64         \n",
      " 13  NUMBER OF MOTORIST KILLED      int64         \n",
      " 14  CONTRIBUTING FACTOR VEHICLE 1  object        \n",
      " 15  COLLISION_ID                   int64         \n",
      " 16  VEHICLE TYPE CODE 1            object        \n",
      " 17  UNIQUE_ID                      int64         \n",
      " 18  CRASH_DATE                     object        \n",
      " 19  CRASH_TIME                     object        \n",
      " 20  PERSON_TYPE                    object        \n",
      " 21  PERSON_INJURY                  object        \n",
      " 22  VEHICLE_ID                     float64       \n",
      " 23  PERSON_AGE                     float64       \n",
      " 24  EJECTION                       object        \n",
      " 25  EMOTIONAL_STATUS               object        \n",
      " 26  BODILY_INJURY                  object        \n",
      " 27  POSITION_IN_VEHICLE            object        \n",
      " 28  SAFETY_EQUIPMENT               object        \n",
      " 29  COMPLAINT                      object        \n",
      " 30  PED_ROLE                       object        \n",
      " 31  PERSON_SEX                     object        \n",
      " 32  YEAR                           int64         \n",
      "dtypes: datetime64[ns](2), float64(4), int32(2), int64(9), object(16)\n",
      "memory usage: 1.2+ GB\n"
     ]
    }
   ],
   "source": [
    "data.info()"
   ]
  },
  {
   "cell_type": "code",
   "execution_count": 32,
   "id": "70a8d189",
   "metadata": {},
   "outputs": [
    {
     "name": "stdout",
     "output_type": "stream",
     "text": [
      "CRASH DATE                                             0\n",
      "CRASH TIME                                             0\n",
      "BOROUGH                                                0\n",
      "ZIP CODE                                         1948943\n",
      "LATITUDE                                          495179\n",
      "LONGITUDE                                         495179\n",
      "NUMBER OF PERSONS INJURED                              0\n",
      "NUMBER OF PERSONS KILLED                               0\n",
      "NUMBER OF PEDESTRIANS INJURED                          0\n",
      "NUMBER OF PEDESTRIANS KILLED                           0\n",
      "NUMBER OF CYCLIST INJURED                              0\n",
      "NUMBER OF CYCLIST KILLED                               0\n",
      "NUMBER OF MOTORIST INJURED                             0\n",
      "NUMBER OF MOTORIST KILLED                              0\n",
      "CONTRIBUTING FACTOR VEHICLE 1                          0\n",
      "COLLISION_ID                                           0\n",
      "VEHICLE TYPE CODE 1                                    0\n",
      "UNIQUE_ID                                              0\n",
      "CRASH_DATE                                             0\n",
      "CRASH_TIME                                             0\n",
      "PERSON_TYPE                                            0\n",
      "PERSON_INJURY                                          0\n",
      "VEHICLE_ID                                        206049\n",
      "PERSON_AGE                                        533513\n",
      "EJECTION                                         2499533\n",
      "EMOTIONAL_STATUS                                 2424823\n",
      "BODILY_INJURY                                    2424780\n",
      "POSITION_IN_VEHICLE                              2499170\n",
      "SAFETY_EQUIPMENT                                 2499242\n",
      "COMPLAINT                                        2424773\n",
      "\n"
     ]
    }
   ],
   "source": [
    "#checking for null values in the each column of the dataset after data cleaning\n",
    "for x in range(30):\n",
    "    print(\"%-45s %10d\" % (data.columns.values[x], data.iloc[:,x].isna().sum()))\n",
    "print()"
   ]
  },
  {
   "cell_type": "code",
   "execution_count": 33,
   "id": "5e6e9c23",
   "metadata": {},
   "outputs": [
    {
     "name": "stdout",
     "output_type": "stream",
     "text": [
      "Variables dropped!\n"
     ]
    }
   ],
   "source": [
    "#dropping columns which are not required for analysis\n",
    "data = data.drop(['VEHICLE_ID'], axis=1)\n",
    "print(\"Variables dropped!\")"
   ]
  },
  {
   "cell_type": "code",
   "execution_count": 34,
   "id": "8804fcd9",
   "metadata": {},
   "outputs": [
    {
     "name": "stdout",
     "output_type": "stream",
     "text": [
      "CRASH DATE                                             0\n",
      "CRASH TIME                                             0\n",
      "BOROUGH                                                0\n",
      "ZIP CODE                                         1948943\n",
      "LATITUDE                                          495179\n",
      "LONGITUDE                                         495179\n",
      "NUMBER OF PERSONS INJURED                              0\n",
      "NUMBER OF PERSONS KILLED                               0\n",
      "NUMBER OF PEDESTRIANS INJURED                          0\n",
      "NUMBER OF PEDESTRIANS KILLED                           0\n",
      "NUMBER OF CYCLIST INJURED                              0\n",
      "NUMBER OF CYCLIST KILLED                               0\n",
      "NUMBER OF MOTORIST INJURED                             0\n",
      "NUMBER OF MOTORIST KILLED                              0\n",
      "CONTRIBUTING FACTOR VEHICLE 1                          0\n",
      "COLLISION_ID                                           0\n",
      "VEHICLE TYPE CODE 1                                    0\n",
      "UNIQUE_ID                                              0\n",
      "CRASH_DATE                                             0\n",
      "CRASH_TIME                                             0\n",
      "PERSON_TYPE                                            0\n",
      "PERSON_INJURY                                          0\n",
      "PERSON_AGE                                        533513\n",
      "EJECTION                                         2499533\n",
      "EMOTIONAL_STATUS                                 2424823\n",
      "BODILY_INJURY                                    2424780\n",
      "POSITION_IN_VEHICLE                              2499170\n",
      "SAFETY_EQUIPMENT                                 2499242\n",
      "COMPLAINT                                        2424773\n",
      "\n"
     ]
    }
   ],
   "source": [
    "#checking for null values in the each column of the dataset after data cleaning\n",
    "for x in range(29):\n",
    "    print(\"%-45s %10d\" % (data.columns.values[x], data.iloc[:,x].isna().sum()))\n",
    "print()"
   ]
  },
  {
   "cell_type": "code",
   "execution_count": 35,
   "id": "befea537",
   "metadata": {},
   "outputs": [
    {
     "data": {
      "text/plain": [
       "array([ 2.900e+01,        nan,  2.500e+01,  3.300e+01,  2.800e+01,\n",
       "        4.400e+01,  2.600e+01,  4.600e+01,  3.800e+01,  3.200e+01,\n",
       "        4.100e+01,  2.000e+01,  3.700e+01,  2.200e+01,  3.000e+01,\n",
       "        3.400e+01,  6.700e+01,  7.500e+01,  5.300e+01,  1.800e+01,\n",
       "        3.100e+01,  3.500e+01,  6.400e+01,  6.100e+01,  5.500e+01,\n",
       "        2.100e+01,  5.800e+01,  1.900e+01,  8.400e+01,  0.000e+00,\n",
       "        1.200e+01,  4.000e+01,  2.400e+01,  5.100e+01,  5.400e+01,\n",
       "        6.000e+01,  3.900e+01,  7.000e+01,  4.900e+01,  4.700e+01,\n",
       "        4.300e+01,  4.200e+01,  2.249e+03,  7.200e+01,  3.600e+01,\n",
       "        4.500e+01,  4.800e+01,  9.000e+00,  5.900e+01,  5.700e+01,\n",
       "        3.000e+00,  1.700e+01,  2.300e+01,  5.200e+01,  5.600e+01,\n",
       "        5.000e+01,  2.700e+01,  7.100e+01,  6.500e+01,  6.000e+00,\n",
       "        8.000e+01,  6.600e+01,  9.300e+01,  6.200e+01,  7.000e+00,\n",
       "        1.300e+01,  6.800e+01,  1.000e+01,  6.300e+01,  7.400e+01,\n",
       "        1.000e+00,  4.000e+00,  7.600e+01,  1.100e+01,  1.500e+01,\n",
       "        7.800e+01,  2.000e+00,  1.400e+01,  6.900e+01,  7.300e+01,\n",
       "        5.000e+00,  8.300e+01,  1.600e+01,  8.000e+00,  8.600e+01,\n",
       "        8.100e+01,  8.200e+01,  7.700e+01,  8.500e+01,  9.400e+01,\n",
       "        7.900e+01,  9.100e+01,  8.800e+01,  9.900e+01,  9.000e+01,\n",
       "        9.990e+02,  8.700e+01,  1.055e+03,  1.210e+02, -9.640e+02,\n",
       "        9.200e+01,  8.900e+01, -9.430e+02, -1.000e+02,  3.218e+03,\n",
       "        3.059e+03,  3.031e+03,  5.209e+03, -5.970e+02,  1.090e+02,\n",
       "        9.500e+01, -7.140e+02,  1.200e+02, -7.120e+02,  9.999e+03,\n",
       "        1.000e+02,  1.290e+02,  1.010e+02, -5.960e+02, -9.710e+02,\n",
       "        3.035e+03, -9.660e+02,  3.530e+02,  9.800e+01, -9.470e+02,\n",
       "       -5.940e+02,  8.480e+02,  3.027e+03,  1.045e+03,  1.050e+03,\n",
       "        6.230e+03,  1.400e+02, -6.170e+02, -7.150e+02,  9.700e+01,\n",
       "        6.249e+03,  9.600e+01, -5.950e+02,  8.230e+02,  2.360e+02,\n",
       "        2.030e+02, -9.740e+02,  1.100e+02,  6.103e+03, -5.920e+02,\n",
       "        1.020e+02, -7.970e+02,  3.034e+03, -9.700e+02,  1.040e+03,\n",
       "        1.041e+03,  1.030e+03,  1.051e+03, -9.730e+02, -5.930e+02,\n",
       "       -9.590e+02,  8.240e+02, -9.670e+02, -9.680e+02, -9.620e+02,\n",
       "       -1.770e+02,  2.220e+02,  4.043e+03,  4.030e+03,  1.280e+02,\n",
       "       -9.530e+02, -9.510e+02,  1.060e+02,  1.022e+03, -9.560e+02,\n",
       "       -9.600e+02, -2.170e+02, -2.950e+02,  2.233e+03,  1.150e+03,\n",
       "        1.120e+02, -9.610e+02, -9.650e+02,  1.230e+02,  1.059e+03,\n",
       "        1.981e+03, -9.500e+02,  1.220e+02,  1.030e+02,  1.180e+02,\n",
       "        6.044e+03,  8.620e+02, -9.230e+02, -9.480e+02,  1.239e+03,\n",
       "        1.200e+03,  1.235e+03, -9.570e+02,  2.300e+02, -4.170e+02,\n",
       "        2.061e+03,  2.140e+02,  2.224e+03,  8.390e+02,  8.180e+02,\n",
       "        8.410e+02,  8.200e+02, -1.090e+02, -8.890e+02, -9.580e+02,\n",
       "        3.238e+03, -9.380e+02,  8.420e+02, -1.750e+02,  1.991e+03,\n",
       "        8.360e+02, -9.910e+02,  6.210e+03,  6.236e+03, -9.290e+02,\n",
       "        9.191e+03, -9.970e+02, -1.850e+02, -9.370e+02, -5.170e+02,\n",
       "        1.050e+02,  8.530e+02,  1.190e+02, -9.690e+02,  9.580e+02,\n",
       "        1.000e+03,  8.210e+02,  2.330e+02,  2.050e+02,  2.120e+02,\n",
       "       -9.440e+02,  5.210e+03,  1.035e+03, -5.340e+02,  1.140e+02,\n",
       "       -9.460e+02, -7.130e+02, -9.160e+02, -4.910e+02,  6.052e+03,\n",
       "       -8.950e+02, -9.820e+02,  3.011e+03,  5.212e+03,  5.183e+03,\n",
       "       -5.330e+02, -9.630e+02, -9.900e+02, -9.410e+02,  1.056e+03,\n",
       "       -1.810e+02, -1.010e+02,  1.110e+02, -9.450e+02,  6.122e+03,\n",
       "        2.219e+03,  2.204e+03,  2.430e+02,  2.440e+02,  1.032e+03,\n",
       "        1.033e+03,  1.120e+03,  1.111e+03, -9.960e+02,  7.211e+03,\n",
       "        2.520e+02,  2.530e+02,  2.510e+02,  5.081e+03,  7.239e+03,\n",
       "        7.202e+03,  7.224e+03,  1.480e+02,  7.230e+03,  7.207e+03,\n",
       "       -9.550e+02,  2.420e+02,  2.320e+02, -9.330e+02,  4.029e+03,\n",
       "        4.027e+03,  2.100e+02,  2.400e+02,  3.247e+03,  2.740e+02,\n",
       "        1.130e+02,  1.003e+03, -9.720e+02,  9.810e+02, -8.990e+02,\n",
       "        8.310e+02,  7.082e+03,  5.234e+03,  5.230e+03,  4.830e+02,\n",
       "        1.171e+03,  1.039e+03,  1.028e+03,  1.047e+03,  1.027e+03,\n",
       "        1.020e+03,  1.058e+03, -9.420e+02,  5.048e+03,  7.275e+03,\n",
       "        1.040e+02, -9.750e+02,  1.065e+03,  1.072e+03,  1.061e+03,\n",
       "        6.071e+03, -1.840e+02,  2.070e+02,  4.515e+03,  4.497e+03,\n",
       "        4.495e+03,  4.496e+03,  1.540e+02,  2.209e+03,  2.234e+03,\n",
       "        6.036e+03,  6.019e+03,  1.049e+03,  1.819e+03,  7.046e+03,\n",
       "        2.730e+02, -9.350e+02,  2.200e+02,  2.630e+02,  1.057e+03,\n",
       "        1.080e+02,  3.995e+03,  3.999e+03,  4.022e+03,  1.080e+03,\n",
       "        5.526e+03,  5.511e+03,  5.508e+03,  5.556e+03,  3.092e+03,\n",
       "        9.290e+02,  1.026e+03,  6.035e+03,  6.018e+03,  6.012e+03,\n",
       "        6.048e+03,  6.047e+03,  6.204e+03,  9.510e+02,  9.380e+02,\n",
       "        1.036e+03, -9.770e+02,  1.024e+03,  1.046e+03, -5.360e+02,\n",
       "       -9.990e+02,  9.540e+02,  9.590e+02, -1.780e+02,  4.041e+03,\n",
       "        2.940e+02,  8.450e+02,  7.245e+03,  2.217e+03,  2.228e+03,\n",
       "        2.247e+03,  1.066e+03,  3.021e+03,  1.560e+02,  1.310e+02,\n",
       "        1.410e+02,  1.490e+02,  6.045e+03,  6.027e+03,  8.190e+02,\n",
       "        1.063e+03,  6.029e+03,  6.033e+03,  2.620e+02,  8.690e+02,\n",
       "        8.340e+02,  1.830e+02,  1.060e+03, -9.000e+02,  1.261e+03,\n",
       "        6.061e+03,  6.026e+03,  8.150e+02,  8.590e+02,  8.580e+02,\n",
       "        8.430e+02,  8.290e+02,  8.610e+02,  8.030e+02,  8.070e+02,\n",
       "        8.300e+02,  5.282e+03, -9.320e+02,  8.330e+02,  8.250e+02,\n",
       "        8.570e+02, -9.520e+02,  8.600e+02,  8.260e+02,  1.170e+02,\n",
       "        1.150e+02,  1.019e+03,  1.042e+03,  1.008e+03,  6.039e+03,\n",
       "        6.065e+03,  8.750e+02,  8.380e+02,  1.500e+02,  1.079e+03,\n",
       "       -9.870e+02,  1.052e+03,  9.460e+02,  9.330e+02, -9.360e+02,\n",
       "        1.021e+03,  1.034e+03,  1.081e+03, -9.540e+02, -9.340e+02,\n",
       "        1.025e+03,  1.001e+03,  1.086e+03, -7.170e+02,  6.023e+03,\n",
       "        8.270e+02,  8.630e+02,  9.151e+03, -9.490e+02,  1.064e+03,\n",
       "        1.044e+03, -6.260e+02, -1.170e+02,  1.380e+02, -9.760e+02,\n",
       "        1.005e+03,  6.025e+03,  6.028e+03,  6.041e+03,  6.055e+03,\n",
       "        8.500e+02, -7.980e+02,  1.018e+03,  8.880e+02,  8.930e+02,\n",
       "        7.260e+02,  7.210e+02,  2.090e+02,  2.211e+03,  2.190e+02,\n",
       "        2.110e+02,  2.450e+02,  5.221e+03,  5.241e+03,  5.213e+03,\n",
       "        6.024e+03,  6.034e+03,  6.002e+03,  9.340e+02,  8.440e+02,\n",
       "        8.220e+02,  8.460e+02,  1.037e+03,  1.160e+02,  1.240e+02,\n",
       "        1.053e+03,  9.370e+02,  9.250e+02,  9.420e+02,  3.215e+03,\n",
       "        3.212e+03,  3.207e+03,  3.204e+03,  6.038e+03,  6.030e+03,\n",
       "        6.032e+03,  5.100e+02, -6.180e+02,  6.057e+03,  8.510e+02,\n",
       "        4.230e+03,  4.221e+03,  4.460e+02,  4.300e+02,  8.280e+02,\n",
       "        9.232e+03,  6.054e+03,  6.072e+03,  6.056e+03,  6.021e+03,\n",
       "        8.490e+02,  5.480e+02,  4.970e+02,  5.160e+02,  5.370e+02,\n",
       "        5.030e+02,  5.010e+02,  9.262e+03,  8.660e+02,  1.029e+03,\n",
       "       -9.310e+02,  2.340e+02,  1.031e+03, -9.130e+02,  1.300e+02,\n",
       "        1.810e+02,  1.430e+02,  1.048e+03, -2.970e+02,  3.310e+02,\n",
       "        1.070e+02,  1.510e+02,  1.250e+02,  2.216e+03,  1.073e+03,\n",
       "        1.074e+03,  1.067e+03,  1.068e+03,  4.026e+03,  1.420e+02,\n",
       "        1.330e+02,  7.228e+03,  2.005e+03, -8.940e+02,  9.240e+02,\n",
       "        3.130e+02,  3.230e+02,  8.470e+02,  1.043e+03,  8.170e+02,\n",
       "        3.240e+02,  3.180e+02,  3.160e+02,  3.210e+02,  3.380e+02,\n",
       "        6.229e+03,  6.237e+03,  6.202e+03,  1.069e+03, -9.270e+02,\n",
       "       -5.180e+02, -8.930e+02,  1.083e+03,  1.077e+03,  8.960e+02,\n",
       "       -9.390e+02,  3.053e+03,  3.081e+03,  1.062e+03,  2.222e+03,\n",
       "        2.212e+03,  7.240e+02,  3.234e+03,  3.262e+03, -2.940e+02,\n",
       "        2.350e+02,  5.830e+02,  9.690e+02,  9.410e+02,  9.190e+02,\n",
       "        9.600e+02, -7.220e+02,  1.440e+02,  8.540e+02,  1.360e+02,\n",
       "        8.350e+02, -9.240e+02,  5.250e+03,  5.231e+03,  2.041e+03,\n",
       "        4.226e+03, -1.940e+02,  5.555e+03,  1.450e+02,  1.660e+02,\n",
       "        1.340e+02,  8.560e+02,  8.550e+02,  1.640e+02,  8.370e+02,\n",
       "        1.075e+03,  3.230e+03,  5.237e+03,  5.220e+03,  1.038e+03,\n",
       "        8.320e+02,  1.320e+02,  2.170e+02,  2.210e+02,  2.250e+02,\n",
       "        2.244e+03,  5.240e+03,  5.094e+03,  1.023e+03, -4.180e+02,\n",
       "        1.226e+03,  6.053e+03,  9.520e+02,  1.054e+03,  3.209e+03,\n",
       "        1.850e+02,  6.049e+03,  1.011e+03,  3.064e+03,  9.670e+02,\n",
       "        3.221e+03,  3.239e+03,  8.050e+02, -9.300e+02,  6.220e+03,\n",
       "        6.244e+03,  1.017e+03,  1.014e+03, -3.170e+02,  3.210e+03,\n",
       "        2.600e+02, -9.780e+02,  1.213e+03,  1.214e+03,  8.400e+02,\n",
       "        9.480e+02, -2.960e+02,  6.043e+03,  6.040e+03, -1.880e+02,\n",
       "        1.820e+03,  1.076e+03,  1.010e+03,  1.006e+03,  2.490e+02,\n",
       "        5.247e+03,  2.229e+03,  9.310e+02, -1.790e+02,  2.205e+03,\n",
       "       -9.800e+02,  2.221e+03, -9.220e+02,  9.211e+03,  4.206e+03,\n",
       "        6.022e+03,  9.830e+02,  9.820e+02,  9.350e+02,  9.500e+02,\n",
       "        6.060e+03,  6.016e+03,  8.060e+02,  3.070e+03,  2.260e+02,\n",
       "        5.047e+03,  5.032e+03,  5.023e+03,  5.052e+03,  5.020e+03,\n",
       "        5.025e+03,  8.710e+02,  8.770e+02,  6.212e+03,  6.042e+03,\n",
       "        2.280e+02,  2.040e+02,  1.070e+03, -1.910e+02, -2.930e+02,\n",
       "        3.229e+03,  9.710e+02,  6.064e+03,  2.206e+03,  2.080e+02,\n",
       "        9.170e+02,  3.075e+03,  3.050e+03,  6.074e+03,  3.029e+03,\n",
       "        4.236e+03, -8.970e+02,  9.220e+02,  9.570e+02,  9.210e+02,\n",
       "        2.015e+03,  2.060e+02,  1.890e+02,  2.310e+02,  2.010e+02,\n",
       "        1.370e+02, -9.790e+02,  9.360e+02,  9.620e+02,  3.023e+03,\n",
       "        6.069e+03,  7.480e+02,  3.930e+02,  9.440e+02,  9.300e+02,\n",
       "        3.043e+03,  6.130e+02,  6.077e+03,  8.700e+02,  4.870e+02,\n",
       "       -5.370e+02,  5.242e+03,  5.206e+03,  1.016e+03,  8.670e+02,\n",
       "       -7.160e+02,  6.046e+03,  9.260e+02,  5.228e+03,  5.205e+03,\n",
       "       -1.800e+02,  1.012e+03,  1.013e+03,  1.085e+03,  3.245e+03,\n",
       "        1.470e+02,  6.067e+03,  8.520e+02, -1.980e+02, -1.990e+02,\n",
       "        9.470e+02,  9.550e+02,  9.280e+02,  9.270e+02, -7.180e+02,\n",
       "        3.248e+03,  6.050e+03,  9.320e+02,  9.050e+02,  5.239e+03,\n",
       "        5.211e+03,  5.245e+03,  5.233e+03,  9.530e+02,  8.740e+02,\n",
       "        7.225e+03,  7.213e+03,  1.218e+03,  8.120e+02,  7.930e+02,\n",
       "        6.430e+02,  6.410e+02,  2.232e+03,  6.192e+03,  6.205e+03,\n",
       "        6.211e+03,  2.500e+02,  1.015e+03,  4.045e+03,  4.037e+03,\n",
       "        9.490e+02, -5.990e+02,  1.976e+03,  6.870e+02,  3.227e+03,\n",
       "        3.226e+03,  9.040e+02,  7.440e+02,  6.281e+03, -1.890e+02,\n",
       "        1.580e+02,  1.350e+02,  1.106e+03,  2.160e+02,  9.760e+02,\n",
       "        9.930e+02,  8.160e+02,  3.620e+02,  1.570e+02,  1.620e+02,\n",
       "        1.650e+02,  1.002e+03,  6.051e+03,  7.210e+03,  7.247e+03,\n",
       "        1.078e+03,  3.640e+02,  6.290e+02, -1.180e+02,  4.030e+02,\n",
       "        3.200e+02,  2.227e+03,  6.830e+02,  6.250e+03,  6.222e+03,\n",
       "        3.047e+03,  7.840e+02,  2.270e+02,  3.650e+02,  9.450e+02,\n",
       "        8.041e+03,  4.048e+03,  3.610e+02,  1.590e+02,  9.630e+02,\n",
       "        5.214e+03,  7.301e+03,  9.660e+02, -2.550e+02,  9.650e+02,\n",
       "        1.700e+02, -9.920e+02,  1.690e+02,  6.380e+02,  2.480e+02,\n",
       "        6.070e+03,  5.216e+03, -2.180e+02,  9.230e+02,  6.068e+03,\n",
       "        2.016e+03,  6.207e+03,  6.231e+03,  9.610e+02,  9.640e+02,\n",
       "        6.014e+03, -5.510e+02,  8.000e+02,  3.042e+03,  3.056e+03,\n",
       "        1.260e+02, -1.740e+02,  3.320e+02,  6.106e+03,  6.102e+03,\n",
       "        6.031e+03,  7.061e+03,  7.038e+03,  7.026e+03,  1.610e+02,\n",
       "       -3.180e+02, -5.900e+02, -9.890e+02,  6.239e+03, -2.050e+02,\n",
       "        9.390e+02,  9.030e+02, -1.930e+02,  9.110e+02,  2.540e+02,\n",
       "        3.232e+03,  1.600e+02,  3.040e+03,  5.225e+03,  5.253e+03,\n",
       "        6.228e+03,  6.185e+03,  6.216e+03,  6.187e+03,  7.249e+03,\n",
       "        7.229e+03,  6.059e+03,  4.217e+03,  4.215e+03, -7.990e+02,\n",
       "        2.410e+02,  3.690e+02,  1.970e+02,  4.998e+03, -2.990e+02,\n",
       "        1.823e+03,  1.950e+02,  4.251e+03,  3.259e+03,  2.020e+02,\n",
       "        3.061e+03,  3.065e+03,  6.100e+03, -1.760e+02, -9.210e+02])"
      ]
     },
     "execution_count": 35,
     "metadata": {},
     "output_type": "execute_result"
    }
   ],
   "source": [
    "data['PERSON_AGE'].unique()"
   ]
  },
  {
   "cell_type": "code",
   "execution_count": 36,
   "id": "f57853c1",
   "metadata": {},
   "outputs": [
    {
     "name": "stdout",
     "output_type": "stream",
     "text": [
      "Replace Successful\n"
     ]
    }
   ],
   "source": [
    "# Replace 'nan' string (in any case) with actual NaN\n",
    "data['PERSON_AGE'] = data['PERSON_AGE'].replace(['nan', 'Nan', 'NaN', 'NAN'], np.nan)\n",
    "\n",
    "# Now replace NaN values with 'No Value'\n",
    "data['PERSON_AGE'] = data['PERSON_AGE'].fillna(0)\n",
    "\n",
    "print('Replace Successful')"
   ]
  },
  {
   "cell_type": "code",
   "execution_count": 37,
   "id": "ad066ee8",
   "metadata": {},
   "outputs": [],
   "source": [
    "#changing datatype of the variables\n",
    "data['PERSON_AGE'] = data['PERSON_AGE'].astype('int')"
   ]
  },
  {
   "cell_type": "code",
   "execution_count": 38,
   "id": "53a3cc37",
   "metadata": {},
   "outputs": [],
   "source": [
    "# Keep only the rows where PERSON_AGE is greater than or equal to 0\n",
    "data = data[data['PERSON_AGE'] >= 0]"
   ]
  },
  {
   "cell_type": "code",
   "execution_count": 39,
   "id": "d2e5299a",
   "metadata": {},
   "outputs": [
    {
     "name": "stdout",
     "output_type": "stream",
     "text": [
      "CRASH DATE                                             0\n",
      "CRASH TIME                                             0\n",
      "BOROUGH                                                0\n",
      "ZIP CODE                                         1948531\n",
      "LATITUDE                                          495089\n",
      "LONGITUDE                                         495089\n",
      "NUMBER OF PERSONS INJURED                              0\n",
      "NUMBER OF PERSONS KILLED                               0\n",
      "NUMBER OF PEDESTRIANS INJURED                          0\n",
      "NUMBER OF PEDESTRIANS KILLED                           0\n",
      "NUMBER OF CYCLIST INJURED                              0\n",
      "NUMBER OF CYCLIST KILLED                               0\n",
      "NUMBER OF MOTORIST INJURED                             0\n",
      "NUMBER OF MOTORIST KILLED                              0\n",
      "CONTRIBUTING FACTOR VEHICLE 1                          0\n",
      "COLLISION_ID                                           0\n",
      "VEHICLE TYPE CODE 1                                    0\n",
      "UNIQUE_ID                                              0\n",
      "CRASH_DATE                                             0\n",
      "CRASH_TIME                                             0\n",
      "PERSON_TYPE                                            0\n",
      "PERSON_INJURY                                          0\n",
      "PERSON_AGE                                             0\n",
      "EJECTION                                         2499142\n",
      "EMOTIONAL_STATUS                                 2424444\n",
      "BODILY_INJURY                                    2424401\n",
      "POSITION_IN_VEHICLE                              2498779\n",
      "SAFETY_EQUIPMENT                                 2498851\n",
      "COMPLAINT                                        2424394\n",
      "\n"
     ]
    }
   ],
   "source": [
    "#checking for null values in the each column of the dataset after data cleaning\n",
    "for x in range(29):\n",
    "    print(\"%-45s %10d\" % (data.columns.values[x], data.iloc[:,x].isna().sum()))\n",
    "print()"
   ]
  },
  {
   "cell_type": "code",
   "execution_count": 40,
   "id": "66c0f5f7",
   "metadata": {},
   "outputs": [],
   "source": [
    "# Drop rows from the entire DataFrame where PERSON_SEX is NaN\n",
    "data = data.dropna(subset=['PERSON_SEX'])"
   ]
  },
  {
   "cell_type": "code",
   "execution_count": 41,
   "id": "350f9d36",
   "metadata": {},
   "outputs": [
    {
     "data": {
      "text/plain": [
       "array(['M', 'F', 'U'], dtype=object)"
      ]
     },
     "execution_count": 41,
     "metadata": {},
     "output_type": "execute_result"
    }
   ],
   "source": [
    "data['PERSON_SEX'].unique()"
   ]
  },
  {
   "cell_type": "code",
   "execution_count": 42,
   "id": "57e1d355",
   "metadata": {},
   "outputs": [],
   "source": [
    "# Drop rows from the entire DataFrame where LATITUDE is NaN\n",
    "data = data.dropna(subset=['LATITUDE'])\n",
    "data = data.dropna(subset=['LONGITUDE'])"
   ]
  },
  {
   "cell_type": "code",
   "execution_count": 43,
   "id": "8b4e13c4",
   "metadata": {},
   "outputs": [
    {
     "name": "stdout",
     "output_type": "stream",
     "text": [
      "CRASH DATE                                             0\n",
      "CRASH TIME                                             0\n",
      "BOROUGH                                                0\n",
      "ZIP CODE                                         1469516\n",
      "LATITUDE                                               0\n",
      "LONGITUDE                                              0\n",
      "NUMBER OF PERSONS INJURED                              0\n",
      "NUMBER OF PERSONS KILLED                               0\n",
      "NUMBER OF PEDESTRIANS INJURED                          0\n",
      "NUMBER OF PEDESTRIANS KILLED                           0\n",
      "NUMBER OF CYCLIST INJURED                              0\n",
      "NUMBER OF CYCLIST KILLED                               0\n",
      "NUMBER OF MOTORIST INJURED                             0\n",
      "NUMBER OF MOTORIST KILLED                              0\n",
      "CONTRIBUTING FACTOR VEHICLE 1                          0\n",
      "COLLISION_ID                                           0\n",
      "VEHICLE TYPE CODE 1                                    0\n",
      "UNIQUE_ID                                              0\n",
      "CRASH_DATE                                             0\n",
      "CRASH_TIME                                             0\n",
      "PERSON_TYPE                                            0\n",
      "PERSON_INJURY                                          0\n",
      "PERSON_AGE                                             0\n",
      "EJECTION                                         1751131\n",
      "EMOTIONAL_STATUS                                 1680058\n",
      "BODILY_INJURY                                    1680015\n",
      "POSITION_IN_VEHICLE                              1750858\n",
      "SAFETY_EQUIPMENT                                 1750887\n",
      "COMPLAINT                                        1680006\n",
      "\n"
     ]
    }
   ],
   "source": [
    "#checking for null values in the each column of the dataset after data cleaning\n",
    "for x in range(29):\n",
    "    print(\"%-45s %10d\" % (data.columns.values[x], data.iloc[:,x].isna().sum()))\n",
    "print()"
   ]
  },
  {
   "cell_type": "code",
   "execution_count": 44,
   "id": "14edd0ce",
   "metadata": {},
   "outputs": [
    {
     "name": "stdout",
     "output_type": "stream",
     "text": [
      "<class 'pandas.core.frame.DataFrame'>\n",
      "Int64Index: 4113078 entries, 10 to 5127054\n",
      "Data columns (total 32 columns):\n",
      " #   Column                         Dtype         \n",
      "---  ------                         -----         \n",
      " 0   CRASH DATE                     datetime64[ns]\n",
      " 1   CRASH TIME                     datetime64[ns]\n",
      " 2   BOROUGH                        object        \n",
      " 3   ZIP CODE                       object        \n",
      " 4   LATITUDE                       float64       \n",
      " 5   LONGITUDE                      float64       \n",
      " 6   NUMBER OF PERSONS INJURED      int32         \n",
      " 7   NUMBER OF PERSONS KILLED       int32         \n",
      " 8   NUMBER OF PEDESTRIANS INJURED  int64         \n",
      " 9   NUMBER OF PEDESTRIANS KILLED   int64         \n",
      " 10  NUMBER OF CYCLIST INJURED      int64         \n",
      " 11  NUMBER OF CYCLIST KILLED       int64         \n",
      " 12  NUMBER OF MOTORIST INJURED     int64         \n",
      " 13  NUMBER OF MOTORIST KILLED      int64         \n",
      " 14  CONTRIBUTING FACTOR VEHICLE 1  object        \n",
      " 15  COLLISION_ID                   int64         \n",
      " 16  VEHICLE TYPE CODE 1            object        \n",
      " 17  UNIQUE_ID                      int64         \n",
      " 18  CRASH_DATE                     object        \n",
      " 19  CRASH_TIME                     object        \n",
      " 20  PERSON_TYPE                    object        \n",
      " 21  PERSON_INJURY                  object        \n",
      " 22  PERSON_AGE                     int32         \n",
      " 23  EJECTION                       object        \n",
      " 24  EMOTIONAL_STATUS               object        \n",
      " 25  BODILY_INJURY                  object        \n",
      " 26  POSITION_IN_VEHICLE            object        \n",
      " 27  SAFETY_EQUIPMENT               object        \n",
      " 28  COMPLAINT                      object        \n",
      " 29  PED_ROLE                       object        \n",
      " 30  PERSON_SEX                     object        \n",
      " 31  YEAR                           int64         \n",
      "dtypes: datetime64[ns](2), float64(2), int32(3), int64(9), object(16)\n",
      "memory usage: 988.5+ MB\n"
     ]
    }
   ],
   "source": [
    "data.info()"
   ]
  },
  {
   "cell_type": "code",
   "execution_count": 45,
   "id": "1f62a4c4",
   "metadata": {},
   "outputs": [
    {
     "data": {
      "text/plain": [
       "53769"
      ]
     },
     "execution_count": 45,
     "metadata": {},
     "output_type": "execute_result"
    }
   ],
   "source": [
    "data['LONGITUDE'].nunique()"
   ]
  },
  {
   "cell_type": "code",
   "execution_count": 46,
   "id": "5bd27a35",
   "metadata": {},
   "outputs": [],
   "source": [
    "data = data.dropna(subset=['ZIP CODE'])"
   ]
  },
  {
   "cell_type": "code",
   "execution_count": 47,
   "id": "4ee1937e",
   "metadata": {},
   "outputs": [
    {
     "data": {
      "text/plain": [
       "0"
      ]
     },
     "execution_count": 47,
     "metadata": {},
     "output_type": "execute_result"
    }
   ],
   "source": [
    "data['ZIP CODE'].isna().sum()"
   ]
  },
  {
   "cell_type": "code",
   "execution_count": 48,
   "id": "15628b90",
   "metadata": {},
   "outputs": [],
   "source": [
    "data['ZIP CODE'] = data['ZIP CODE'].astype(str).str.strip().str.replace('.0', '', regex=False)"
   ]
  },
  {
   "cell_type": "code",
   "execution_count": 49,
   "id": "57303a96",
   "metadata": {},
   "outputs": [],
   "source": [
    "# Calculate the total number of persons killed by ZIP code\n",
    "total_killed_by_zip = data.groupby('ZIP CODE')['NUMBER OF PERSONS KILLED'].sum().reset_index()"
   ]
  },
  {
   "cell_type": "code",
   "execution_count": 50,
   "id": "096f0449",
   "metadata": {},
   "outputs": [
    {
     "data": {
      "text/html": [
       "<div>\n",
       "<style scoped>\n",
       "    .dataframe tbody tr th:only-of-type {\n",
       "        vertical-align: middle;\n",
       "    }\n",
       "\n",
       "    .dataframe tbody tr th {\n",
       "        vertical-align: top;\n",
       "    }\n",
       "\n",
       "    .dataframe thead th {\n",
       "        text-align: right;\n",
       "    }\n",
       "</style>\n",
       "<table border=\"1\" class=\"dataframe\">\n",
       "  <thead>\n",
       "    <tr style=\"text-align: right;\">\n",
       "      <th></th>\n",
       "      <th>ZIP CODE</th>\n",
       "      <th>NUMBER OF PERSONS KILLED</th>\n",
       "    </tr>\n",
       "  </thead>\n",
       "  <tbody>\n",
       "    <tr>\n",
       "      <th>0</th>\n",
       "      <td>10000</td>\n",
       "      <td>0</td>\n",
       "    </tr>\n",
       "    <tr>\n",
       "      <th>1</th>\n",
       "      <td>10001</td>\n",
       "      <td>25</td>\n",
       "    </tr>\n",
       "    <tr>\n",
       "      <th>2</th>\n",
       "      <td>10002</td>\n",
       "      <td>34</td>\n",
       "    </tr>\n",
       "    <tr>\n",
       "      <th>3</th>\n",
       "      <td>10003</td>\n",
       "      <td>22</td>\n",
       "    </tr>\n",
       "    <tr>\n",
       "      <th>4</th>\n",
       "      <td>10004</td>\n",
       "      <td>9</td>\n",
       "    </tr>\n",
       "    <tr>\n",
       "      <th>...</th>\n",
       "      <td>...</td>\n",
       "      <td>...</td>\n",
       "    </tr>\n",
       "    <tr>\n",
       "      <th>225</th>\n",
       "      <td>11692</td>\n",
       "      <td>7</td>\n",
       "    </tr>\n",
       "    <tr>\n",
       "      <th>226</th>\n",
       "      <td>11693</td>\n",
       "      <td>13</td>\n",
       "    </tr>\n",
       "    <tr>\n",
       "      <th>227</th>\n",
       "      <td>11694</td>\n",
       "      <td>7</td>\n",
       "    </tr>\n",
       "    <tr>\n",
       "      <th>228</th>\n",
       "      <td>11695</td>\n",
       "      <td>0</td>\n",
       "    </tr>\n",
       "    <tr>\n",
       "      <th>229</th>\n",
       "      <td>11697</td>\n",
       "      <td>0</td>\n",
       "    </tr>\n",
       "  </tbody>\n",
       "</table>\n",
       "<p>230 rows × 2 columns</p>\n",
       "</div>"
      ],
      "text/plain": [
       "    ZIP CODE  NUMBER OF PERSONS KILLED\n",
       "0      10000                         0\n",
       "1      10001                        25\n",
       "2      10002                        34\n",
       "3      10003                        22\n",
       "4      10004                         9\n",
       "..       ...                       ...\n",
       "225    11692                         7\n",
       "226    11693                        13\n",
       "227    11694                         7\n",
       "228    11695                         0\n",
       "229    11697                         0\n",
       "\n",
       "[230 rows x 2 columns]"
      ]
     },
     "execution_count": 50,
     "metadata": {},
     "output_type": "execute_result"
    }
   ],
   "source": [
    "total_killed_by_zip"
   ]
  },
  {
   "cell_type": "code",
   "execution_count": 51,
   "id": "3d2e8bb4",
   "metadata": {},
   "outputs": [],
   "source": [
    "# Merge this aggregated data back into the original DataFrame on the ZIP code\n",
    "data = data.merge(total_killed_by_zip, on='ZIP CODE', how='left')"
   ]
  },
  {
   "cell_type": "code",
   "execution_count": 52,
   "id": "28002d17",
   "metadata": {},
   "outputs": [
    {
     "data": {
      "text/html": [
       "<div>\n",
       "<style scoped>\n",
       "    .dataframe tbody tr th:only-of-type {\n",
       "        vertical-align: middle;\n",
       "    }\n",
       "\n",
       "    .dataframe tbody tr th {\n",
       "        vertical-align: top;\n",
       "    }\n",
       "\n",
       "    .dataframe thead th {\n",
       "        text-align: right;\n",
       "    }\n",
       "</style>\n",
       "<table border=\"1\" class=\"dataframe\">\n",
       "  <thead>\n",
       "    <tr style=\"text-align: right;\">\n",
       "      <th></th>\n",
       "      <th>CRASH DATE</th>\n",
       "      <th>CRASH TIME</th>\n",
       "      <th>BOROUGH</th>\n",
       "      <th>ZIP CODE</th>\n",
       "      <th>LATITUDE</th>\n",
       "      <th>LONGITUDE</th>\n",
       "      <th>NUMBER OF PERSONS INJURED</th>\n",
       "      <th>NUMBER OF PERSONS KILLED_x</th>\n",
       "      <th>NUMBER OF PEDESTRIANS INJURED</th>\n",
       "      <th>NUMBER OF PEDESTRIANS KILLED</th>\n",
       "      <th>...</th>\n",
       "      <th>EJECTION</th>\n",
       "      <th>EMOTIONAL_STATUS</th>\n",
       "      <th>BODILY_INJURY</th>\n",
       "      <th>POSITION_IN_VEHICLE</th>\n",
       "      <th>SAFETY_EQUIPMENT</th>\n",
       "      <th>COMPLAINT</th>\n",
       "      <th>PED_ROLE</th>\n",
       "      <th>PERSON_SEX</th>\n",
       "      <th>YEAR</th>\n",
       "      <th>NUMBER OF PERSONS KILLED_y</th>\n",
       "    </tr>\n",
       "  </thead>\n",
       "  <tbody>\n",
       "    <tr>\n",
       "      <th>0</th>\n",
       "      <td>2021-09-11</td>\n",
       "      <td>2023-11-18 09:35:00</td>\n",
       "      <td>BROOKLYN</td>\n",
       "      <td>11208</td>\n",
       "      <td>40.667202</td>\n",
       "      <td>-73.866500</td>\n",
       "      <td>0</td>\n",
       "      <td>0</td>\n",
       "      <td>0</td>\n",
       "      <td>0</td>\n",
       "      <td>...</td>\n",
       "      <td>Not Ejected</td>\n",
       "      <td>Does Not Apply</td>\n",
       "      <td>Does Not Apply</td>\n",
       "      <td>Unknown</td>\n",
       "      <td>None</td>\n",
       "      <td>Does Not Apply</td>\n",
       "      <td>Driver</td>\n",
       "      <td>F</td>\n",
       "      <td>2021</td>\n",
       "      <td>64</td>\n",
       "    </tr>\n",
       "    <tr>\n",
       "      <th>1</th>\n",
       "      <td>2021-09-11</td>\n",
       "      <td>2023-11-18 09:35:00</td>\n",
       "      <td>BROOKLYN</td>\n",
       "      <td>11208</td>\n",
       "      <td>40.667202</td>\n",
       "      <td>-73.866500</td>\n",
       "      <td>0</td>\n",
       "      <td>0</td>\n",
       "      <td>0</td>\n",
       "      <td>0</td>\n",
       "      <td>...</td>\n",
       "      <td>NaN</td>\n",
       "      <td>NaN</td>\n",
       "      <td>NaN</td>\n",
       "      <td>NaN</td>\n",
       "      <td>NaN</td>\n",
       "      <td>NaN</td>\n",
       "      <td>Registrant</td>\n",
       "      <td>F</td>\n",
       "      <td>2021</td>\n",
       "      <td>64</td>\n",
       "    </tr>\n",
       "    <tr>\n",
       "      <th>2</th>\n",
       "      <td>2021-12-14</td>\n",
       "      <td>2023-11-18 08:13:00</td>\n",
       "      <td>BROOKLYN</td>\n",
       "      <td>11233</td>\n",
       "      <td>40.683304</td>\n",
       "      <td>-73.917274</td>\n",
       "      <td>0</td>\n",
       "      <td>0</td>\n",
       "      <td>0</td>\n",
       "      <td>0</td>\n",
       "      <td>...</td>\n",
       "      <td>NaN</td>\n",
       "      <td>Does Not Apply</td>\n",
       "      <td>Does Not Apply</td>\n",
       "      <td>NaN</td>\n",
       "      <td>NaN</td>\n",
       "      <td>Does Not Apply</td>\n",
       "      <td>Pedestrian</td>\n",
       "      <td>M</td>\n",
       "      <td>2021</td>\n",
       "      <td>56</td>\n",
       "    </tr>\n",
       "    <tr>\n",
       "      <th>3</th>\n",
       "      <td>2021-12-14</td>\n",
       "      <td>2023-11-18 08:17:00</td>\n",
       "      <td>BRONX</td>\n",
       "      <td>10475</td>\n",
       "      <td>40.868160</td>\n",
       "      <td>-73.831480</td>\n",
       "      <td>2</td>\n",
       "      <td>0</td>\n",
       "      <td>0</td>\n",
       "      <td>0</td>\n",
       "      <td>...</td>\n",
       "      <td>Not Ejected</td>\n",
       "      <td>Shock</td>\n",
       "      <td>Chest</td>\n",
       "      <td>Driver</td>\n",
       "      <td>Lap Belt &amp; Harness</td>\n",
       "      <td>Complaint of Pain or Nausea</td>\n",
       "      <td>Driver</td>\n",
       "      <td>F</td>\n",
       "      <td>2021</td>\n",
       "      <td>12</td>\n",
       "    </tr>\n",
       "    <tr>\n",
       "      <th>4</th>\n",
       "      <td>2021-12-14</td>\n",
       "      <td>2023-11-18 08:17:00</td>\n",
       "      <td>BRONX</td>\n",
       "      <td>10475</td>\n",
       "      <td>40.868160</td>\n",
       "      <td>-73.831480</td>\n",
       "      <td>2</td>\n",
       "      <td>0</td>\n",
       "      <td>0</td>\n",
       "      <td>0</td>\n",
       "      <td>...</td>\n",
       "      <td>NaN</td>\n",
       "      <td>NaN</td>\n",
       "      <td>NaN</td>\n",
       "      <td>NaN</td>\n",
       "      <td>NaN</td>\n",
       "      <td>NaN</td>\n",
       "      <td>Registrant</td>\n",
       "      <td>F</td>\n",
       "      <td>2021</td>\n",
       "      <td>12</td>\n",
       "    </tr>\n",
       "    <tr>\n",
       "      <th>...</th>\n",
       "      <td>...</td>\n",
       "      <td>...</td>\n",
       "      <td>...</td>\n",
       "      <td>...</td>\n",
       "      <td>...</td>\n",
       "      <td>...</td>\n",
       "      <td>...</td>\n",
       "      <td>...</td>\n",
       "      <td>...</td>\n",
       "      <td>...</td>\n",
       "      <td>...</td>\n",
       "      <td>...</td>\n",
       "      <td>...</td>\n",
       "      <td>...</td>\n",
       "      <td>...</td>\n",
       "      <td>...</td>\n",
       "      <td>...</td>\n",
       "      <td>...</td>\n",
       "      <td>...</td>\n",
       "      <td>...</td>\n",
       "      <td>...</td>\n",
       "    </tr>\n",
       "    <tr>\n",
       "      <th>2643557</th>\n",
       "      <td>2023-05-22</td>\n",
       "      <td>2023-11-18 08:15:00</td>\n",
       "      <td>BROOKLYN</td>\n",
       "      <td>11207</td>\n",
       "      <td>40.672580</td>\n",
       "      <td>-73.891220</td>\n",
       "      <td>4</td>\n",
       "      <td>0</td>\n",
       "      <td>0</td>\n",
       "      <td>0</td>\n",
       "      <td>...</td>\n",
       "      <td>NaN</td>\n",
       "      <td>NaN</td>\n",
       "      <td>NaN</td>\n",
       "      <td>NaN</td>\n",
       "      <td>NaN</td>\n",
       "      <td>NaN</td>\n",
       "      <td>Registrant</td>\n",
       "      <td>M</td>\n",
       "      <td>2023</td>\n",
       "      <td>90</td>\n",
       "    </tr>\n",
       "    <tr>\n",
       "      <th>2643558</th>\n",
       "      <td>2023-05-22</td>\n",
       "      <td>2023-11-18 08:15:00</td>\n",
       "      <td>BROOKLYN</td>\n",
       "      <td>11207</td>\n",
       "      <td>40.672580</td>\n",
       "      <td>-73.891220</td>\n",
       "      <td>4</td>\n",
       "      <td>0</td>\n",
       "      <td>0</td>\n",
       "      <td>0</td>\n",
       "      <td>...</td>\n",
       "      <td>NaN</td>\n",
       "      <td>NaN</td>\n",
       "      <td>NaN</td>\n",
       "      <td>NaN</td>\n",
       "      <td>NaN</td>\n",
       "      <td>NaN</td>\n",
       "      <td>Registrant</td>\n",
       "      <td>M</td>\n",
       "      <td>2023</td>\n",
       "      <td>90</td>\n",
       "    </tr>\n",
       "    <tr>\n",
       "      <th>2643559</th>\n",
       "      <td>2023-05-22</td>\n",
       "      <td>2023-11-18 08:15:00</td>\n",
       "      <td>BROOKLYN</td>\n",
       "      <td>11207</td>\n",
       "      <td>40.672580</td>\n",
       "      <td>-73.891220</td>\n",
       "      <td>4</td>\n",
       "      <td>0</td>\n",
       "      <td>0</td>\n",
       "      <td>0</td>\n",
       "      <td>...</td>\n",
       "      <td>Not Ejected</td>\n",
       "      <td>Conscious</td>\n",
       "      <td>Elbow-Lower-Arm-Hand</td>\n",
       "      <td>Front passenger, if two or more persons, inclu...</td>\n",
       "      <td>Lap Belt &amp; Harness</td>\n",
       "      <td>Complaint of Pain or Nausea</td>\n",
       "      <td>Passenger</td>\n",
       "      <td>M</td>\n",
       "      <td>2023</td>\n",
       "      <td>90</td>\n",
       "    </tr>\n",
       "    <tr>\n",
       "      <th>2643560</th>\n",
       "      <td>2023-05-22</td>\n",
       "      <td>2023-11-18 08:15:00</td>\n",
       "      <td>BROOKLYN</td>\n",
       "      <td>11207</td>\n",
       "      <td>40.672580</td>\n",
       "      <td>-73.891220</td>\n",
       "      <td>4</td>\n",
       "      <td>0</td>\n",
       "      <td>0</td>\n",
       "      <td>0</td>\n",
       "      <td>...</td>\n",
       "      <td>NaN</td>\n",
       "      <td>NaN</td>\n",
       "      <td>NaN</td>\n",
       "      <td>NaN</td>\n",
       "      <td>NaN</td>\n",
       "      <td>NaN</td>\n",
       "      <td>Registrant</td>\n",
       "      <td>M</td>\n",
       "      <td>2023</td>\n",
       "      <td>90</td>\n",
       "    </tr>\n",
       "    <tr>\n",
       "      <th>2643561</th>\n",
       "      <td>2023-05-22</td>\n",
       "      <td>2023-11-18 08:15:00</td>\n",
       "      <td>BROOKLYN</td>\n",
       "      <td>11207</td>\n",
       "      <td>40.672580</td>\n",
       "      <td>-73.891220</td>\n",
       "      <td>4</td>\n",
       "      <td>0</td>\n",
       "      <td>0</td>\n",
       "      <td>0</td>\n",
       "      <td>...</td>\n",
       "      <td>Not Ejected</td>\n",
       "      <td>Conscious</td>\n",
       "      <td>Chest</td>\n",
       "      <td>Front passenger, if two or more persons, inclu...</td>\n",
       "      <td>Lap Belt &amp; Harness</td>\n",
       "      <td>Complaint of Pain or Nausea</td>\n",
       "      <td>Passenger</td>\n",
       "      <td>F</td>\n",
       "      <td>2023</td>\n",
       "      <td>90</td>\n",
       "    </tr>\n",
       "  </tbody>\n",
       "</table>\n",
       "<p>2643562 rows × 33 columns</p>\n",
       "</div>"
      ],
      "text/plain": [
       "        CRASH DATE          CRASH TIME   BOROUGH ZIP CODE   LATITUDE  \\\n",
       "0       2021-09-11 2023-11-18 09:35:00  BROOKLYN    11208  40.667202   \n",
       "1       2021-09-11 2023-11-18 09:35:00  BROOKLYN    11208  40.667202   \n",
       "2       2021-12-14 2023-11-18 08:13:00  BROOKLYN    11233  40.683304   \n",
       "3       2021-12-14 2023-11-18 08:17:00     BRONX    10475  40.868160   \n",
       "4       2021-12-14 2023-11-18 08:17:00     BRONX    10475  40.868160   \n",
       "...            ...                 ...       ...      ...        ...   \n",
       "2643557 2023-05-22 2023-11-18 08:15:00  BROOKLYN    11207  40.672580   \n",
       "2643558 2023-05-22 2023-11-18 08:15:00  BROOKLYN    11207  40.672580   \n",
       "2643559 2023-05-22 2023-11-18 08:15:00  BROOKLYN    11207  40.672580   \n",
       "2643560 2023-05-22 2023-11-18 08:15:00  BROOKLYN    11207  40.672580   \n",
       "2643561 2023-05-22 2023-11-18 08:15:00  BROOKLYN    11207  40.672580   \n",
       "\n",
       "         LONGITUDE  NUMBER OF PERSONS INJURED  NUMBER OF PERSONS KILLED_x  \\\n",
       "0       -73.866500                          0                           0   \n",
       "1       -73.866500                          0                           0   \n",
       "2       -73.917274                          0                           0   \n",
       "3       -73.831480                          2                           0   \n",
       "4       -73.831480                          2                           0   \n",
       "...            ...                        ...                         ...   \n",
       "2643557 -73.891220                          4                           0   \n",
       "2643558 -73.891220                          4                           0   \n",
       "2643559 -73.891220                          4                           0   \n",
       "2643560 -73.891220                          4                           0   \n",
       "2643561 -73.891220                          4                           0   \n",
       "\n",
       "         NUMBER OF PEDESTRIANS INJURED  NUMBER OF PEDESTRIANS KILLED  ...  \\\n",
       "0                                    0                             0  ...   \n",
       "1                                    0                             0  ...   \n",
       "2                                    0                             0  ...   \n",
       "3                                    0                             0  ...   \n",
       "4                                    0                             0  ...   \n",
       "...                                ...                           ...  ...   \n",
       "2643557                              0                             0  ...   \n",
       "2643558                              0                             0  ...   \n",
       "2643559                              0                             0  ...   \n",
       "2643560                              0                             0  ...   \n",
       "2643561                              0                             0  ...   \n",
       "\n",
       "            EJECTION  EMOTIONAL_STATUS         BODILY_INJURY  \\\n",
       "0        Not Ejected    Does Not Apply        Does Not Apply   \n",
       "1                NaN               NaN                   NaN   \n",
       "2                NaN    Does Not Apply        Does Not Apply   \n",
       "3        Not Ejected             Shock                 Chest   \n",
       "4                NaN               NaN                   NaN   \n",
       "...              ...               ...                   ...   \n",
       "2643557          NaN               NaN                   NaN   \n",
       "2643558          NaN               NaN                   NaN   \n",
       "2643559  Not Ejected         Conscious  Elbow-Lower-Arm-Hand   \n",
       "2643560          NaN               NaN                   NaN   \n",
       "2643561  Not Ejected         Conscious                 Chest   \n",
       "\n",
       "                                       POSITION_IN_VEHICLE  \\\n",
       "0                                                  Unknown   \n",
       "1                                                      NaN   \n",
       "2                                                      NaN   \n",
       "3                                                   Driver   \n",
       "4                                                      NaN   \n",
       "...                                                    ...   \n",
       "2643557                                                NaN   \n",
       "2643558                                                NaN   \n",
       "2643559  Front passenger, if two or more persons, inclu...   \n",
       "2643560                                                NaN   \n",
       "2643561  Front passenger, if two or more persons, inclu...   \n",
       "\n",
       "           SAFETY_EQUIPMENT                    COMPLAINT    PED_ROLE  \\\n",
       "0                      None               Does Not Apply      Driver   \n",
       "1                       NaN                          NaN  Registrant   \n",
       "2                       NaN               Does Not Apply  Pedestrian   \n",
       "3        Lap Belt & Harness  Complaint of Pain or Nausea      Driver   \n",
       "4                       NaN                          NaN  Registrant   \n",
       "...                     ...                          ...         ...   \n",
       "2643557                 NaN                          NaN  Registrant   \n",
       "2643558                 NaN                          NaN  Registrant   \n",
       "2643559  Lap Belt & Harness  Complaint of Pain or Nausea   Passenger   \n",
       "2643560                 NaN                          NaN  Registrant   \n",
       "2643561  Lap Belt & Harness  Complaint of Pain or Nausea   Passenger   \n",
       "\n",
       "         PERSON_SEX  YEAR NUMBER OF PERSONS KILLED_y  \n",
       "0                 F  2021                         64  \n",
       "1                 F  2021                         64  \n",
       "2                 M  2021                         56  \n",
       "3                 F  2021                         12  \n",
       "4                 F  2021                         12  \n",
       "...             ...   ...                        ...  \n",
       "2643557           M  2023                         90  \n",
       "2643558           M  2023                         90  \n",
       "2643559           M  2023                         90  \n",
       "2643560           M  2023                         90  \n",
       "2643561           F  2023                         90  \n",
       "\n",
       "[2643562 rows x 33 columns]"
      ]
     },
     "execution_count": 52,
     "metadata": {},
     "output_type": "execute_result"
    }
   ],
   "source": [
    "data"
   ]
  },
  {
   "cell_type": "code",
   "execution_count": 57,
   "id": "ecc3b4ee",
   "metadata": {},
   "outputs": [],
   "source": [
    "data.rename(columns={'NUMBER OF PERSONS KILLED_x': 'NUMBER OF PERSONS KILLED', 'NUMBER OF PERSONS KILLED_y': 'NUMBER OF PERSONS KILLED_BY_ZIP'}, inplace=True)"
   ]
  },
  {
   "cell_type": "code",
   "execution_count": 62,
   "id": "73d058c0",
   "metadata": {},
   "outputs": [
    {
     "name": "stdout",
     "output_type": "stream",
     "text": [
      "<class 'pandas.core.frame.DataFrame'>\n",
      "Int64Index: 2643562 entries, 0 to 2643561\n",
      "Data columns (total 33 columns):\n",
      " #   Column                           Dtype         \n",
      "---  ------                           -----         \n",
      " 0   CRASH DATE                       datetime64[ns]\n",
      " 1   CRASH TIME                       datetime64[ns]\n",
      " 2   BOROUGH                          object        \n",
      " 3   ZIP CODE                         object        \n",
      " 4   LATITUDE                         float64       \n",
      " 5   LONGITUDE                        float64       \n",
      " 6   NUMBER OF PERSONS INJURED        int32         \n",
      " 7   NUMBER OF PERSONS KILLED         int32         \n",
      " 8   NUMBER OF PEDESTRIANS INJURED    int64         \n",
      " 9   NUMBER OF PEDESTRIANS KILLED     int64         \n",
      " 10  NUMBER OF CYCLIST INJURED        int64         \n",
      " 11  NUMBER OF CYCLIST KILLED         int64         \n",
      " 12  NUMBER OF MOTORIST INJURED       int64         \n",
      " 13  NUMBER OF MOTORIST KILLED        int64         \n",
      " 14  CONTRIBUTING FACTOR VEHICLE 1    object        \n",
      " 15  COLLISION_ID                     int64         \n",
      " 16  VEHICLE TYPE CODE 1              object        \n",
      " 17  UNIQUE_ID                        int64         \n",
      " 18  CRASH_DATE                       object        \n",
      " 19  CRASH_TIME                       object        \n",
      " 20  PERSON_TYPE                      object        \n",
      " 21  PERSON_INJURY                    object        \n",
      " 22  PERSON_AGE                       int32         \n",
      " 23  EJECTION                         object        \n",
      " 24  EMOTIONAL_STATUS                 object        \n",
      " 25  BODILY_INJURY                    object        \n",
      " 26  POSITION_IN_VEHICLE              object        \n",
      " 27  SAFETY_EQUIPMENT                 object        \n",
      " 28  COMPLAINT                        object        \n",
      " 29  PED_ROLE                         object        \n",
      " 30  PERSON_SEX                       object        \n",
      " 31  YEAR                             int64         \n",
      " 32  NUMBER OF PERSONS KILLED_BY_ZIP  int32         \n",
      "dtypes: datetime64[ns](2), float64(2), int32(4), int64(9), object(16)\n",
      "memory usage: 645.4+ MB\n"
     ]
    }
   ],
   "source": [
    "data.info()"
   ]
  },
  {
   "cell_type": "code",
   "execution_count": 64,
   "id": "9446b6b5",
   "metadata": {},
   "outputs": [
    {
     "name": "stdout",
     "output_type": "stream",
     "text": [
      "CRASH DATE                                             0\n",
      "CRASH TIME                                             0\n",
      "BOROUGH                                                0\n",
      "ZIP CODE                                               0\n",
      "LATITUDE                                               0\n",
      "LONGITUDE                                              0\n",
      "NUMBER OF PERSONS INJURED                              0\n",
      "NUMBER OF PERSONS KILLED                               0\n",
      "NUMBER OF PEDESTRIANS INJURED                          0\n",
      "NUMBER OF PEDESTRIANS KILLED                           0\n",
      "NUMBER OF CYCLIST INJURED                              0\n",
      "NUMBER OF CYCLIST KILLED                               0\n",
      "NUMBER OF MOTORIST INJURED                             0\n",
      "NUMBER OF MOTORIST KILLED                              0\n",
      "CONTRIBUTING FACTOR VEHICLE 1                          0\n",
      "COLLISION_ID                                           0\n",
      "VEHICLE TYPE CODE 1                                    0\n",
      "UNIQUE_ID                                              0\n",
      "CRASH_DATE                                             0\n",
      "CRASH_TIME                                             0\n",
      "PERSON_TYPE                                            0\n",
      "PERSON_INJURY                                          0\n",
      "PERSON_AGE                                             0\n",
      "EJECTION                                         1153750\n",
      "EMOTIONAL_STATUS                                 1100172\n",
      "BODILY_INJURY                                    1100140\n",
      "POSITION_IN_VEHICLE                              1153527\n",
      "SAFETY_EQUIPMENT                                 1153589\n",
      "COMPLAINT                                        1100133\n",
      "PED_ROLE                                               0\n",
      "PERSON_SEX                                             0\n",
      "YEAR                                                   0\n",
      "\n"
     ]
    }
   ],
   "source": [
    "#checking for null values in the each column of the dataset after data cleaning\n",
    "for x in range(32):\n",
    "    print(\"%-45s %10d\" % (data.columns.values[x], data.iloc[:,x].isna().sum()))\n",
    "print()"
   ]
  },
  {
   "cell_type": "code",
   "execution_count": 60,
   "id": "73b3062c",
   "metadata": {},
   "outputs": [
    {
     "data": {
      "text/plain": [
       "array([2021, 2022, 2019, 2016, 2020, 2012, 2018, 2017, 2023, 2015, 2014,\n",
       "       2013], dtype=int64)"
      ]
     },
     "execution_count": 60,
     "metadata": {},
     "output_type": "execute_result"
    }
   ],
   "source": [
    "data['YEAR'].unique()"
   ]
  },
  {
   "cell_type": "markdown",
   "id": "df1b82af",
   "metadata": {},
   "source": [
    "This much of data cleaning should be enough for our analysis and viz."
   ]
  },
  {
   "cell_type": "code",
   "execution_count": 61,
   "id": "c294f952",
   "metadata": {},
   "outputs": [],
   "source": [
    "data.to_csv('Accident_Data_cleaned_2.csv', index=False)"
   ]
  },
  {
   "cell_type": "code",
   "execution_count": null,
   "id": "169bd348",
   "metadata": {},
   "outputs": [],
   "source": []
  },
  {
   "cell_type": "code",
   "execution_count": null,
   "id": "8755db41",
   "metadata": {},
   "outputs": [],
   "source": []
  }
 ],
 "metadata": {
  "kernelspec": {
   "display_name": "Python 3 (ipykernel)",
   "language": "python",
   "name": "python3"
  },
  "language_info": {
   "codemirror_mode": {
    "name": "ipython",
    "version": 3
   },
   "file_extension": ".py",
   "mimetype": "text/x-python",
   "name": "python",
   "nbconvert_exporter": "python",
   "pygments_lexer": "ipython3",
   "version": "3.10.9"
  }
 },
 "nbformat": 4,
 "nbformat_minor": 5
}
