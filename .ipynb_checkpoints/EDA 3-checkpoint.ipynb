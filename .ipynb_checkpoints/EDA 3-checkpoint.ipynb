{
 "cells": [
  {
   "cell_type": "code",
   "execution_count": 1,
   "id": "1268afa6",
   "metadata": {},
   "outputs": [],
   "source": [
    "import pandas as pd\n",
    "import numpy as np\n",
    "\n",
    "import matplotlib.pyplot as plt\n",
    "import seaborn as sns"
   ]
  },
  {
   "cell_type": "code",
   "execution_count": 2,
   "id": "c9f90407",
   "metadata": {},
   "outputs": [],
   "source": [
    "data = pd.read_csv('Accident_Data_cleaned_2.csv')"
   ]
  },
  {
   "cell_type": "code",
   "execution_count": 3,
   "id": "180d901c",
   "metadata": {},
   "outputs": [
    {
     "data": {
      "text/html": [
       "<div>\n",
       "<style scoped>\n",
       "    .dataframe tbody tr th:only-of-type {\n",
       "        vertical-align: middle;\n",
       "    }\n",
       "\n",
       "    .dataframe tbody tr th {\n",
       "        vertical-align: top;\n",
       "    }\n",
       "\n",
       "    .dataframe thead th {\n",
       "        text-align: right;\n",
       "    }\n",
       "</style>\n",
       "<table border=\"1\" class=\"dataframe\">\n",
       "  <thead>\n",
       "    <tr style=\"text-align: right;\">\n",
       "      <th></th>\n",
       "      <th>CRASH DATE</th>\n",
       "      <th>CRASH TIME</th>\n",
       "      <th>BOROUGH</th>\n",
       "      <th>ZIP CODE</th>\n",
       "      <th>LATITUDE</th>\n",
       "      <th>LONGITUDE</th>\n",
       "      <th>NUMBER OF PERSONS INJURED</th>\n",
       "      <th>NUMBER OF PERSONS KILLED</th>\n",
       "      <th>NUMBER OF PEDESTRIANS INJURED</th>\n",
       "      <th>NUMBER OF PEDESTRIANS KILLED</th>\n",
       "      <th>...</th>\n",
       "      <th>EJECTION</th>\n",
       "      <th>EMOTIONAL_STATUS</th>\n",
       "      <th>BODILY_INJURY</th>\n",
       "      <th>POSITION_IN_VEHICLE</th>\n",
       "      <th>SAFETY_EQUIPMENT</th>\n",
       "      <th>COMPLAINT</th>\n",
       "      <th>PED_ROLE</th>\n",
       "      <th>PERSON_SEX</th>\n",
       "      <th>YEAR</th>\n",
       "      <th>NUMBER OF PERSONS KILLED_BY_ZIP</th>\n",
       "    </tr>\n",
       "  </thead>\n",
       "  <tbody>\n",
       "    <tr>\n",
       "      <th>0</th>\n",
       "      <td>2021-09-11</td>\n",
       "      <td>2023-11-18 09:35:00</td>\n",
       "      <td>BROOKLYN</td>\n",
       "      <td>11208</td>\n",
       "      <td>40.667202</td>\n",
       "      <td>-73.866500</td>\n",
       "      <td>0</td>\n",
       "      <td>0</td>\n",
       "      <td>0</td>\n",
       "      <td>0</td>\n",
       "      <td>...</td>\n",
       "      <td>Not Ejected</td>\n",
       "      <td>Does Not Apply</td>\n",
       "      <td>Does Not Apply</td>\n",
       "      <td>Unknown</td>\n",
       "      <td>None</td>\n",
       "      <td>Does Not Apply</td>\n",
       "      <td>Driver</td>\n",
       "      <td>F</td>\n",
       "      <td>2021</td>\n",
       "      <td>64</td>\n",
       "    </tr>\n",
       "    <tr>\n",
       "      <th>1</th>\n",
       "      <td>2021-09-11</td>\n",
       "      <td>2023-11-18 09:35:00</td>\n",
       "      <td>BROOKLYN</td>\n",
       "      <td>11208</td>\n",
       "      <td>40.667202</td>\n",
       "      <td>-73.866500</td>\n",
       "      <td>0</td>\n",
       "      <td>0</td>\n",
       "      <td>0</td>\n",
       "      <td>0</td>\n",
       "      <td>...</td>\n",
       "      <td>NaN</td>\n",
       "      <td>NaN</td>\n",
       "      <td>NaN</td>\n",
       "      <td>NaN</td>\n",
       "      <td>NaN</td>\n",
       "      <td>NaN</td>\n",
       "      <td>Registrant</td>\n",
       "      <td>F</td>\n",
       "      <td>2021</td>\n",
       "      <td>64</td>\n",
       "    </tr>\n",
       "    <tr>\n",
       "      <th>2</th>\n",
       "      <td>2021-12-14</td>\n",
       "      <td>2023-11-18 08:13:00</td>\n",
       "      <td>BROOKLYN</td>\n",
       "      <td>11233</td>\n",
       "      <td>40.683304</td>\n",
       "      <td>-73.917274</td>\n",
       "      <td>0</td>\n",
       "      <td>0</td>\n",
       "      <td>0</td>\n",
       "      <td>0</td>\n",
       "      <td>...</td>\n",
       "      <td>NaN</td>\n",
       "      <td>Does Not Apply</td>\n",
       "      <td>Does Not Apply</td>\n",
       "      <td>NaN</td>\n",
       "      <td>NaN</td>\n",
       "      <td>Does Not Apply</td>\n",
       "      <td>Pedestrian</td>\n",
       "      <td>M</td>\n",
       "      <td>2021</td>\n",
       "      <td>56</td>\n",
       "    </tr>\n",
       "    <tr>\n",
       "      <th>3</th>\n",
       "      <td>2021-12-14</td>\n",
       "      <td>2023-11-18 08:17:00</td>\n",
       "      <td>BRONX</td>\n",
       "      <td>10475</td>\n",
       "      <td>40.868160</td>\n",
       "      <td>-73.831480</td>\n",
       "      <td>2</td>\n",
       "      <td>0</td>\n",
       "      <td>0</td>\n",
       "      <td>0</td>\n",
       "      <td>...</td>\n",
       "      <td>Not Ejected</td>\n",
       "      <td>Shock</td>\n",
       "      <td>Chest</td>\n",
       "      <td>Driver</td>\n",
       "      <td>Lap Belt &amp; Harness</td>\n",
       "      <td>Complaint of Pain or Nausea</td>\n",
       "      <td>Driver</td>\n",
       "      <td>F</td>\n",
       "      <td>2021</td>\n",
       "      <td>12</td>\n",
       "    </tr>\n",
       "    <tr>\n",
       "      <th>4</th>\n",
       "      <td>2021-12-14</td>\n",
       "      <td>2023-11-18 08:17:00</td>\n",
       "      <td>BRONX</td>\n",
       "      <td>10475</td>\n",
       "      <td>40.868160</td>\n",
       "      <td>-73.831480</td>\n",
       "      <td>2</td>\n",
       "      <td>0</td>\n",
       "      <td>0</td>\n",
       "      <td>0</td>\n",
       "      <td>...</td>\n",
       "      <td>NaN</td>\n",
       "      <td>NaN</td>\n",
       "      <td>NaN</td>\n",
       "      <td>NaN</td>\n",
       "      <td>NaN</td>\n",
       "      <td>NaN</td>\n",
       "      <td>Registrant</td>\n",
       "      <td>F</td>\n",
       "      <td>2021</td>\n",
       "      <td>12</td>\n",
       "    </tr>\n",
       "  </tbody>\n",
       "</table>\n",
       "<p>5 rows × 33 columns</p>\n",
       "</div>"
      ],
      "text/plain": [
       "   CRASH DATE           CRASH TIME   BOROUGH  ZIP CODE   LATITUDE  LONGITUDE  \\\n",
       "0  2021-09-11  2023-11-18 09:35:00  BROOKLYN     11208  40.667202 -73.866500   \n",
       "1  2021-09-11  2023-11-18 09:35:00  BROOKLYN     11208  40.667202 -73.866500   \n",
       "2  2021-12-14  2023-11-18 08:13:00  BROOKLYN     11233  40.683304 -73.917274   \n",
       "3  2021-12-14  2023-11-18 08:17:00     BRONX     10475  40.868160 -73.831480   \n",
       "4  2021-12-14  2023-11-18 08:17:00     BRONX     10475  40.868160 -73.831480   \n",
       "\n",
       "   NUMBER OF PERSONS INJURED  NUMBER OF PERSONS KILLED  \\\n",
       "0                          0                         0   \n",
       "1                          0                         0   \n",
       "2                          0                         0   \n",
       "3                          2                         0   \n",
       "4                          2                         0   \n",
       "\n",
       "   NUMBER OF PEDESTRIANS INJURED  NUMBER OF PEDESTRIANS KILLED  ...  \\\n",
       "0                              0                             0  ...   \n",
       "1                              0                             0  ...   \n",
       "2                              0                             0  ...   \n",
       "3                              0                             0  ...   \n",
       "4                              0                             0  ...   \n",
       "\n",
       "      EJECTION  EMOTIONAL_STATUS   BODILY_INJURY  POSITION_IN_VEHICLE  \\\n",
       "0  Not Ejected    Does Not Apply  Does Not Apply              Unknown   \n",
       "1          NaN               NaN             NaN                  NaN   \n",
       "2          NaN    Does Not Apply  Does Not Apply                  NaN   \n",
       "3  Not Ejected             Shock           Chest               Driver   \n",
       "4          NaN               NaN             NaN                  NaN   \n",
       "\n",
       "     SAFETY_EQUIPMENT                    COMPLAINT    PED_ROLE  PERSON_SEX  \\\n",
       "0                None               Does Not Apply      Driver           F   \n",
       "1                 NaN                          NaN  Registrant           F   \n",
       "2                 NaN               Does Not Apply  Pedestrian           M   \n",
       "3  Lap Belt & Harness  Complaint of Pain or Nausea      Driver           F   \n",
       "4                 NaN                          NaN  Registrant           F   \n",
       "\n",
       "   YEAR NUMBER OF PERSONS KILLED_BY_ZIP  \n",
       "0  2021                              64  \n",
       "1  2021                              64  \n",
       "2  2021                              56  \n",
       "3  2021                              12  \n",
       "4  2021                              12  \n",
       "\n",
       "[5 rows x 33 columns]"
      ]
     },
     "execution_count": 3,
     "metadata": {},
     "output_type": "execute_result"
    }
   ],
   "source": [
    "data.head()"
   ]
  },
  {
   "cell_type": "code",
   "execution_count": 4,
   "id": "fd34dfc6",
   "metadata": {},
   "outputs": [
    {
     "name": "stdout",
     "output_type": "stream",
     "text": [
      "<class 'pandas.core.frame.DataFrame'>\n",
      "RangeIndex: 2643562 entries, 0 to 2643561\n",
      "Data columns (total 33 columns):\n",
      " #   Column                           Dtype  \n",
      "---  ------                           -----  \n",
      " 0   CRASH DATE                       object \n",
      " 1   CRASH TIME                       object \n",
      " 2   BOROUGH                          object \n",
      " 3   ZIP CODE                         int64  \n",
      " 4   LATITUDE                         float64\n",
      " 5   LONGITUDE                        float64\n",
      " 6   NUMBER OF PERSONS INJURED        int64  \n",
      " 7   NUMBER OF PERSONS KILLED         int64  \n",
      " 8   NUMBER OF PEDESTRIANS INJURED    int64  \n",
      " 9   NUMBER OF PEDESTRIANS KILLED     int64  \n",
      " 10  NUMBER OF CYCLIST INJURED        int64  \n",
      " 11  NUMBER OF CYCLIST KILLED         int64  \n",
      " 12  NUMBER OF MOTORIST INJURED       int64  \n",
      " 13  NUMBER OF MOTORIST KILLED        int64  \n",
      " 14  CONTRIBUTING FACTOR VEHICLE 1    object \n",
      " 15  COLLISION_ID                     int64  \n",
      " 16  VEHICLE TYPE CODE 1              object \n",
      " 17  UNIQUE_ID                        int64  \n",
      " 18  CRASH_DATE                       object \n",
      " 19  CRASH_TIME                       object \n",
      " 20  PERSON_TYPE                      object \n",
      " 21  PERSON_INJURY                    object \n",
      " 22  PERSON_AGE                       int64  \n",
      " 23  EJECTION                         object \n",
      " 24  EMOTIONAL_STATUS                 object \n",
      " 25  BODILY_INJURY                    object \n",
      " 26  POSITION_IN_VEHICLE              object \n",
      " 27  SAFETY_EQUIPMENT                 object \n",
      " 28  COMPLAINT                        object \n",
      " 29  PED_ROLE                         object \n",
      " 30  PERSON_SEX                       object \n",
      " 31  YEAR                             int64  \n",
      " 32  NUMBER OF PERSONS KILLED_BY_ZIP  int64  \n",
      "dtypes: float64(2), int64(14), object(17)\n",
      "memory usage: 665.6+ MB\n"
     ]
    }
   ],
   "source": [
    "data.info()"
   ]
  },
  {
   "cell_type": "code",
   "execution_count": 5,
   "id": "1f094ed1",
   "metadata": {},
   "outputs": [
    {
     "data": {
      "text/plain": [
       "CRASH DATE                               0\n",
       "CRASH TIME                               0\n",
       "BOROUGH                                  0\n",
       "ZIP CODE                                 0\n",
       "LATITUDE                                 0\n",
       "LONGITUDE                                0\n",
       "NUMBER OF PERSONS INJURED                0\n",
       "NUMBER OF PERSONS KILLED                 0\n",
       "NUMBER OF PEDESTRIANS INJURED            0\n",
       "NUMBER OF PEDESTRIANS KILLED             0\n",
       "NUMBER OF CYCLIST INJURED                0\n",
       "NUMBER OF CYCLIST KILLED                 0\n",
       "NUMBER OF MOTORIST INJURED               0\n",
       "NUMBER OF MOTORIST KILLED                0\n",
       "CONTRIBUTING FACTOR VEHICLE 1            0\n",
       "COLLISION_ID                             0\n",
       "VEHICLE TYPE CODE 1                      0\n",
       "UNIQUE_ID                                0\n",
       "CRASH_DATE                               0\n",
       "CRASH_TIME                               0\n",
       "PERSON_TYPE                              0\n",
       "PERSON_INJURY                            0\n",
       "PERSON_AGE                               0\n",
       "EJECTION                           1153750\n",
       "EMOTIONAL_STATUS                   1100172\n",
       "BODILY_INJURY                      1100140\n",
       "POSITION_IN_VEHICLE                1153527\n",
       "SAFETY_EQUIPMENT                   1153589\n",
       "COMPLAINT                          1100133\n",
       "PED_ROLE                                 0\n",
       "PERSON_SEX                               0\n",
       "YEAR                                     0\n",
       "NUMBER OF PERSONS KILLED_BY_ZIP          0\n",
       "dtype: int64"
      ]
     },
     "execution_count": 5,
     "metadata": {},
     "output_type": "execute_result"
    }
   ],
   "source": [
    "data.isna().sum()"
   ]
  },
  {
   "cell_type": "code",
   "execution_count": 6,
   "id": "9a7acfc5",
   "metadata": {},
   "outputs": [
    {
     "name": "stdout",
     "output_type": "stream",
     "text": [
      "Variables dropped!\n"
     ]
    }
   ],
   "source": [
    "#dropping columns EMOTIONAL_STATUS, BODILY_INJURY, COMPLAINT, PED_ROLE\n",
    "data = data.drop(['EMOTIONAL_STATUS', 'BODILY_INJURY', 'COMPLAINT', 'PED_ROLE'], axis=1)\n",
    "print(\"Variables dropped!\")"
   ]
  },
  {
   "cell_type": "code",
   "execution_count": 7,
   "id": "ebc4db84",
   "metadata": {},
   "outputs": [
    {
     "name": "stdout",
     "output_type": "stream",
     "text": [
      "Variable dropped!\n"
     ]
    }
   ],
   "source": [
    "#dropping column EJECTION \n",
    "data = data.drop(['EJECTION'], axis=1)\n",
    "print(\"Variable dropped!\")"
   ]
  },
  {
   "cell_type": "code",
   "execution_count": 8,
   "id": "7af15a7b",
   "metadata": {},
   "outputs": [
    {
     "name": "stdout",
     "output_type": "stream",
     "text": [
      "Variable dropped!\n"
     ]
    }
   ],
   "source": [
    "#dropping column UNIQUE_ID  \n",
    "data = data.drop(['UNIQUE_ID'], axis=1)\n",
    "print(\"Variable dropped!\")"
   ]
  },
  {
   "cell_type": "code",
   "execution_count": 9,
   "id": "c8e5ee67",
   "metadata": {},
   "outputs": [
    {
     "name": "stdout",
     "output_type": "stream",
     "text": [
      "Variables dropped!\n"
     ]
    }
   ],
   "source": [
    "#dropping columns CRASH DATE and CRASH TIME since its present twice.\n",
    "data = data.drop(['CRASH DATE', 'CRASH TIME'], axis=1)\n",
    "print(\"Variables dropped!\")"
   ]
  },
  {
   "cell_type": "code",
   "execution_count": 10,
   "id": "e8a85dc4",
   "metadata": {},
   "outputs": [
    {
     "name": "stdout",
     "output_type": "stream",
     "text": [
      "<class 'pandas.core.frame.DataFrame'>\n",
      "RangeIndex: 2643562 entries, 0 to 2643561\n",
      "Data columns (total 25 columns):\n",
      " #   Column                           Dtype  \n",
      "---  ------                           -----  \n",
      " 0   BOROUGH                          object \n",
      " 1   ZIP CODE                         int64  \n",
      " 2   LATITUDE                         float64\n",
      " 3   LONGITUDE                        float64\n",
      " 4   NUMBER OF PERSONS INJURED        int64  \n",
      " 5   NUMBER OF PERSONS KILLED         int64  \n",
      " 6   NUMBER OF PEDESTRIANS INJURED    int64  \n",
      " 7   NUMBER OF PEDESTRIANS KILLED     int64  \n",
      " 8   NUMBER OF CYCLIST INJURED        int64  \n",
      " 9   NUMBER OF CYCLIST KILLED         int64  \n",
      " 10  NUMBER OF MOTORIST INJURED       int64  \n",
      " 11  NUMBER OF MOTORIST KILLED        int64  \n",
      " 12  CONTRIBUTING FACTOR VEHICLE 1    object \n",
      " 13  COLLISION_ID                     int64  \n",
      " 14  VEHICLE TYPE CODE 1              object \n",
      " 15  CRASH_DATE                       object \n",
      " 16  CRASH_TIME                       object \n",
      " 17  PERSON_TYPE                      object \n",
      " 18  PERSON_INJURY                    object \n",
      " 19  PERSON_AGE                       int64  \n",
      " 20  POSITION_IN_VEHICLE              object \n",
      " 21  SAFETY_EQUIPMENT                 object \n",
      " 22  PERSON_SEX                       object \n",
      " 23  YEAR                             int64  \n",
      " 24  NUMBER OF PERSONS KILLED_BY_ZIP  int64  \n",
      "dtypes: float64(2), int64(13), object(10)\n",
      "memory usage: 504.2+ MB\n"
     ]
    }
   ],
   "source": [
    "data.info()"
   ]
  },
  {
   "cell_type": "code",
   "execution_count": 11,
   "id": "ca4a03b3",
   "metadata": {},
   "outputs": [
    {
     "data": {
      "text/plain": [
       "array([2021, 2022, 2019, 2016, 2020, 2012, 2018, 2017, 2023, 2015, 2014,\n",
       "       2013], dtype=int64)"
      ]
     },
     "execution_count": 11,
     "metadata": {},
     "output_type": "execute_result"
    }
   ],
   "source": [
    "data['YEAR'].unique()"
   ]
  },
  {
   "cell_type": "code",
   "execution_count": 12,
   "id": "abd585e3",
   "metadata": {},
   "outputs": [],
   "source": [
    "data = data[data['YEAR'] >= 2016]"
   ]
  },
  {
   "cell_type": "code",
   "execution_count": 13,
   "id": "7a2f1770",
   "metadata": {},
   "outputs": [
    {
     "data": {
      "text/plain": [
       "array([2021, 2022, 2019, 2016, 2020, 2018, 2017, 2023], dtype=int64)"
      ]
     },
     "execution_count": 13,
     "metadata": {},
     "output_type": "execute_result"
    }
   ],
   "source": [
    "data['YEAR'].unique()"
   ]
  },
  {
   "cell_type": "code",
   "execution_count": 15,
   "id": "f51c934a",
   "metadata": {},
   "outputs": [
    {
     "name": "stdout",
     "output_type": "stream",
     "text": [
      "Variables dropped!\n"
     ]
    }
   ],
   "source": [
    "#dropping columns SAFETY_EQUIPMENT.\n",
    "data = data.drop(['SAFETY_EQUIPMENT'], axis=1)\n",
    "print(\"Variables dropped!\")"
   ]
  },
  {
   "cell_type": "code",
   "execution_count": 16,
   "id": "2b511880",
   "metadata": {},
   "outputs": [
    {
     "name": "stdout",
     "output_type": "stream",
     "text": [
      "<class 'pandas.core.frame.DataFrame'>\n",
      "Int64Index: 2642917 entries, 0 to 2643561\n",
      "Data columns (total 24 columns):\n",
      " #   Column                           Dtype  \n",
      "---  ------                           -----  \n",
      " 0   BOROUGH                          object \n",
      " 1   ZIP CODE                         int64  \n",
      " 2   LATITUDE                         float64\n",
      " 3   LONGITUDE                        float64\n",
      " 4   NUMBER OF PERSONS INJURED        int64  \n",
      " 5   NUMBER OF PERSONS KILLED         int64  \n",
      " 6   NUMBER OF PEDESTRIANS INJURED    int64  \n",
      " 7   NUMBER OF PEDESTRIANS KILLED     int64  \n",
      " 8   NUMBER OF CYCLIST INJURED        int64  \n",
      " 9   NUMBER OF CYCLIST KILLED         int64  \n",
      " 10  NUMBER OF MOTORIST INJURED       int64  \n",
      " 11  NUMBER OF MOTORIST KILLED        int64  \n",
      " 12  CONTRIBUTING FACTOR VEHICLE 1    object \n",
      " 13  COLLISION_ID                     int64  \n",
      " 14  VEHICLE TYPE CODE 1              object \n",
      " 15  CRASH_DATE                       object \n",
      " 16  CRASH_TIME                       object \n",
      " 17  PERSON_TYPE                      object \n",
      " 18  PERSON_INJURY                    object \n",
      " 19  PERSON_AGE                       int64  \n",
      " 20  POSITION_IN_VEHICLE              object \n",
      " 21  PERSON_SEX                       object \n",
      " 22  YEAR                             int64  \n",
      " 23  NUMBER OF PERSONS KILLED_BY_ZIP  int64  \n",
      "dtypes: float64(2), int64(13), object(9)\n",
      "memory usage: 504.1+ MB\n"
     ]
    }
   ],
   "source": [
    "data.info()"
   ]
  },
  {
   "cell_type": "code",
   "execution_count": null,
   "id": "fe708e31",
   "metadata": {},
   "outputs": [],
   "source": []
  },
  {
   "cell_type": "code",
   "execution_count": null,
   "id": "970781c2",
   "metadata": {},
   "outputs": [],
   "source": []
  },
  {
   "cell_type": "code",
   "execution_count": null,
   "id": "7e09978b",
   "metadata": {},
   "outputs": [],
   "source": []
  },
  {
   "cell_type": "code",
   "execution_count": null,
   "id": "648b6392",
   "metadata": {},
   "outputs": [],
   "source": []
  },
  {
   "cell_type": "code",
   "execution_count": null,
   "id": "76cba962",
   "metadata": {},
   "outputs": [],
   "source": []
  },
  {
   "cell_type": "code",
   "execution_count": null,
   "id": "bc632034",
   "metadata": {},
   "outputs": [],
   "source": []
  },
  {
   "cell_type": "code",
   "execution_count": null,
   "id": "408e8bee",
   "metadata": {},
   "outputs": [],
   "source": []
  },
  {
   "cell_type": "code",
   "execution_count": null,
   "id": "245d8ffd",
   "metadata": {},
   "outputs": [],
   "source": []
  },
  {
   "cell_type": "code",
   "execution_count": 30,
   "id": "e5744ce5",
   "metadata": {},
   "outputs": [],
   "source": [
    "data.to_csv('Final Cleaned Data3.csv', index=False)"
   ]
  },
  {
   "cell_type": "code",
   "execution_count": null,
   "id": "9601e535",
   "metadata": {},
   "outputs": [],
   "source": []
  }
 ],
 "metadata": {
  "kernelspec": {
   "display_name": "Python 3 (ipykernel)",
   "language": "python",
   "name": "python3"
  },
  "language_info": {
   "codemirror_mode": {
    "name": "ipython",
    "version": 3
   },
   "file_extension": ".py",
   "mimetype": "text/x-python",
   "name": "python",
   "nbconvert_exporter": "python",
   "pygments_lexer": "ipython3",
   "version": "3.10.9"
  }
 },
 "nbformat": 4,
 "nbformat_minor": 5
}
